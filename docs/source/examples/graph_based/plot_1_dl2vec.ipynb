{
  "cells": [
    {
      "cell_type": "code",
      "execution_count": null,
      "metadata": {
        "collapsed": false
      },
      "outputs": [],
      "source": [
        "%matplotlib inline"
      ]
    },
    {
      "cell_type": "markdown",
      "metadata": {},
      "source": [
        "\n# DL2Vec\n\nThis example corresponds to the paper [Predicting candidate genes from phenotypes, functions and anatomical site of expression](https://doi.org/10.1093/bioinformatics/btaa879). \n\nThis work is a graph-based machine-learning method to learn from biomedical ontologies. This method works by transforming the ontology into a graph following a set of rules. Random walks are generated from the obtained graph and then processed by a Word2Vec model, which generates \nembeddings of the original ontology classes. This algorithm is applied to generate numerical representations of genes and diseases based on the background knowledge found in the Gene Ontology, which was extended to incorporate phenotypes, functions of the gene products and anatomical location of gene expression. The representations of genes and diseases are then used to predict candidate genes for a given disease.\n"
      ]
    },
    {
      "cell_type": "markdown",
      "metadata": {},
      "source": [
        "To show an example of DL2Vec, we need 3 components:\n\n- The ontology projector\n- The random walks generator\n- The Word2Vec model\n\n"
      ]
    },
    {
      "cell_type": "code",
      "execution_count": null,
      "metadata": {
        "collapsed": false
      },
      "outputs": [],
      "source": [
        "import mowl\nmowl.init_jvm(\"10g\")\n\nfrom mowl.datasets.builtin import GDAHumanDataset\nfrom mowl.projection import DL2VecProjector\nfrom mowl.walking import DeepWalk\nfrom gensim.models.word2vec import LineSentence\nfrom gensim.models import Word2Vec"
      ]
    },
    {
      "cell_type": "markdown",
      "metadata": {},
      "source": [
        "## Projecting the ontology\n\nWe project the ontology using the DL2VecProjector class. The rules used to project the \nontology can be found at :doc:`/graphs/projection`. The outcome of the projection algorithm\nis an edgelist.\n\n"
      ]
    },
    {
      "cell_type": "code",
      "execution_count": null,
      "metadata": {
        "collapsed": false
      },
      "outputs": [],
      "source": [
        "dataset = GDAHumanDataset()\n\nprojector = DL2VecProjector(bidirectional_taxonomy=True)\nedges = projector.project(dataset.ontology)"
      ]
    },
    {
      "cell_type": "markdown",
      "metadata": {},
      "source": [
        "## Generating random walks\n\nThe random walks are generated using the DeepWalk class. This class implements the DeepWalk\nalgorithm with a modification consisting of including the edge labels as part of the walks.\n\n"
      ]
    },
    {
      "cell_type": "code",
      "execution_count": null,
      "metadata": {
        "collapsed": false
      },
      "outputs": [],
      "source": [
        "walker = DeepWalk(5, # number of walks per node\n                  20, # walk length\n                  0.1, # restart probability\n                  workers=4) # number of threads\n\nwalks = walker.walk(edges)"
      ]
    },
    {
      "cell_type": "markdown",
      "metadata": {},
      "source": [
        "## Training the Word2Vec model\n\nTo train the Word2Vec model, we rely on the Gensim library:\n\n"
      ]
    },
    {
      "cell_type": "code",
      "execution_count": null,
      "metadata": {
        "collapsed": false
      },
      "outputs": [],
      "source": [
        "walks_file = walker.outfile\nsentences = LineSentence(walks_file)\nmodel = Word2Vec(sentences, vector_size=20, window=3, min_count=1, workers=4)"
      ]
    }
  ],
  "metadata": {
    "kernelspec": {
      "display_name": "Python 3",
      "language": "python",
      "name": "python3"
    },
    "language_info": {
      "codemirror_mode": {
        "name": "ipython",
        "version": 3
      },
      "file_extension": ".py",
      "mimetype": "text/x-python",
      "name": "python",
      "nbconvert_exporter": "python",
      "pygments_lexer": "ipython3",
      "version": "3.9.13"
    }
  },
  "nbformat": 4,
  "nbformat_minor": 0
}