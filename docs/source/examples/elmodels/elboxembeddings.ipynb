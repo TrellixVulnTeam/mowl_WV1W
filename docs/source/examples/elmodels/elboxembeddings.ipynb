{
  "cells": [
    {
      "cell_type": "code",
      "execution_count": null,
      "metadata": {
        "collapsed": false
      },
      "outputs": [],
      "source": [
        "%matplotlib inline"
      ]
    },
    {
      "cell_type": "markdown",
      "metadata": {},
      "source": [
        "\n# ELBoxEmbeddings \n"
      ]
    },
    {
      "cell_type": "code",
      "execution_count": null,
      "metadata": {
        "collapsed": false
      },
      "outputs": [],
      "source": [
        "from mowl.base_models.elmodel import EmbeddingELModel\nimport mowl.models.elboxembeddings.losses as L\nfrom mowl.nn.elmodule import ELModule\nfrom mowl.projection.factory import projector_factory\nfrom mowl.projection.edge import Edge\nimport math\nimport logging\nimport numpy as np\n\nfrom .evaluate import ELBoxEmbeddingsPPIEvaluator\n\nfrom tqdm import trange, tqdm\n\nimport torch as th\nfrom torch import nn\n\nclass ELBoxEmbeddings(EmbeddingELModel):\n\n    def __init__(self,\n                 dataset,\n                 embed_dim=50,\n                 margin=0,\n                 reg_norm=1,\n                 learning_rate=0.001,\n                 epochs=1000,\n                 batch_size = 4096*8,\n                 model_filepath = None,\n                 device = 'cpu'\n                 ):\n        super().__init__(dataset, batch_size, extended = True)\n\n\n        self.embed_dim = embed_dim\n        self.margin = margin\n        self.reg_norm = reg_norm\n        self.learning_rate = learning_rate\n        self.epochs = epochs\n        self.device = device\n        self.model_filepath = model_filepath\n        self._loaded = False\n        self._loaded_eval = False\n        self.extended = False\n\n                \n    def init_model(self):\n        self.model = ELBoxModule(\n            len(self.class_index_dict),\n            len(self.object_property_index_dict),\n            embed_dim = self.embed_dim,\n            margin = self.margin\n        ).to(self.device)\n    \n        \n    def train(self):\n        self.init_model()\n        criterion = nn.MSELoss()\n        optimizer = th.optim.Adam(self.model.parameters(), lr=self.learning_rate)\n        best_loss = float('inf')\n\n        training_datasets = {k: v.data for k,v in self.training_datasets.get_gci_datasets().items()}\n        validation_dataset = self.validation_datasets.get_gci_datasets()[\"gci2\"][:]\n\n        for epoch in trange(self.epochs):\n            self.model.train()\n\n            train_loss = 0\n            loss = 0\n\n            \n            for gci_name, gci_dataset in training_datasets.items():\n                if len(gci_dataset) == 0:\n                    continue\n                rand_index = np.random.choice(len(gci_dataset), size = 512)\n                dst = self.model(gci_dataset[rand_index], gci_name)\n                mse_loss = criterion(dst, th.zeros(dst.shape, requires_grad = False).to(self.device))\n                loss += mse_loss\n                \n                if gci_name == \"gci2\":\n                    rand_index = np.random.choice(len(gci_dataset), size = 512)\n                    dst = self.model(gci_dataset[rand_index], gci_name, neg = True)\n                    mse_loss = criterion(dst, th.ones(dst.shape, requires_grad = False).to(self.device))\n                    loss += mse_loss\n        \n            optimizer.zero_grad()\n            loss.backward()\n            optimizer.step()\n            train_loss += loss.detach().item()\n\n            with th.no_grad():\n                self.model.eval()\n                valid_loss = 0\n                gci2_data = validation_dataset\n\n                dst = self.model(gci2_data, \"gci2\")\n                loss = criterion(dst, th.zeros(dst.shape, requires_grad = False).to(self.device))\n                valid_loss += loss.detach().item()\n                \n            checkpoint = 1000\n            if best_loss > valid_loss and (epoch+1) % checkpoint == 0:\n                best_loss = valid_loss\n                print(\"Saving model..\")\n                th.save(self.model.state_dict(), self.model_filepath)\n            if (epoch+1) % checkpoint == 0:\n                print(f'Epoch {epoch}: Train loss: {train_loss} Valid loss: {valid_loss}')\n\n    def evaluate_ppi(self):\n        self.init_model()\n        print('Load the best model', self.model_filepath)\n        self.model.load_state_dict(th.load(self.model_filepath))\n        with th.no_grad():\n            self.model.eval()\n\n            eval_method = self.model.gci2_loss\n\n            evaluator = ELBoxEmbeddingsPPIEvaluator(self.dataset.testing, eval_method, self.dataset.ontology, self.class_index_dict, self.object_property_index_dict, device = self.device)\n            evaluator()\n            evaluator.print_metrics()\n\n    \nclass ELBoxModule(ELModule):\n\n    def __init__(self, nb_ont_classes, nb_rels, embed_dim=50, margin=0.1):\n        super().__init__()\n        self.nb_ont_classes = nb_ont_classes\n        self.nb_rels = nb_rels\n\n        self.embed_dim = embed_dim\n        \n        self.class_embed = nn.Embedding(self.nb_ont_classes, embed_dim)\n        nn.init.uniform_(self.class_embed.weight, a=-1, b=1)\n        self.class_embed.weight.data /= th.linalg.norm(self.class_embed.weight.data,axis=1).reshape(-1,1)\n\n        self.class_offset = nn.Embedding(self.nb_ont_classes, embed_dim)\n        nn.init.uniform_(self.class_offset.weight, a=-1, b=1)\n        self.class_offset.weight.data /= th.linalg.norm(self.class_offset.weight.data,axis=1).reshape(-1,1)\n\n        self.rel_embed = nn.Embedding(nb_rels, embed_dim)\n        nn.init.uniform_(self.rel_embed.weight, a=-1, b=1)\n        self.rel_embed.weight.data /= th.linalg.norm(self.rel_embed.weight.data,axis=1).reshape(-1,1)\n        \n        self.margin = margin\n\n    def gci0_loss(self, data, neg = False):\n        return L.gci0_loss(data, self.class_embed, self.class_offset, self.margin, neg = neg)\n    def gci1_loss(self, data, neg = False):\n        return L.gci1_loss(data, self.class_embed, self.class_offset, self.margin, neg = neg)\n    def gci1_bot_loss(self, data, neg = False):\n        return L.gci1_bot_loss(data, self.class_embed, self.class_offset, self.margin, neg = neg)\n    def gci2_loss(self, data, neg = False):\n        return L.gci2_loss(data, self.class_embed, self.class_offset, self.rel_embed, self.margin, neg = neg)\n    def gci3_loss(self, data, neg = False):\n        return L.gci3_loss(data, self.class_embed, self.class_offset, self.rel_embed, self.margin, neg = neg)"
      ]
    }
  ],
  "metadata": {
    "kernelspec": {
      "display_name": "Python 3",
      "language": "python",
      "name": "python3"
    },
    "language_info": {
      "codemirror_mode": {
        "name": "ipython",
        "version": 3
      },
      "file_extension": ".py",
      "mimetype": "text/x-python",
      "name": "python",
      "nbconvert_exporter": "python",
      "pygments_lexer": "ipython3",
      "version": "3.9.7"
    }
  },
  "nbformat": 4,
  "nbformat_minor": 0
}