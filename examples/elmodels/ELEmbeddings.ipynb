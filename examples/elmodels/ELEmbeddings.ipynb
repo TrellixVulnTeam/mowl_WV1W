{
 "cells": [
  {
   "cell_type": "markdown",
   "id": "09aceaf5",
   "metadata": {},
   "source": [
    "# ELEmbeddings"
   ]
  },
  {
   "cell_type": "markdown",
   "id": "d6a37463",
   "metadata": {},
   "source": [
    "## Imports"
   ]
  },
  {
   "cell_type": "code",
   "execution_count": null,
   "id": "c006a434",
   "metadata": {},
   "outputs": [],
   "source": []
  },
  {
   "cell_type": "code",
   "execution_count": null,
   "id": "1a938332",
   "metadata": {},
   "outputs": [],
   "source": [
    "import sys\n",
    "import os\n",
    "sys.path.append('../../../')\n",
    "import mowl\n",
    "mowl.init_jvm(\"5g\")\n",
    "from mowl.datasets.ppi_yeast import PPIYeastDataset, PPIYeastSlimDataset\n",
    "from mowl.datasets.base import PathDataset\n",
    "from mowl.embeddings.elembeddings.model import ELEmbeddings\n",
    "\n",
    "import numpy as np\n",
    "import torch as th\n",
    "import logging\n",
    "logging.basicConfig(level = logging.DEBUG)"
   ]
  },
  {
   "cell_type": "markdown",
   "id": "bd48559c",
   "metadata": {},
   "source": [
    "## Loading the dataset"
   ]
  },
  {
   "cell_type": "code",
   "execution_count": null,
   "id": "c6b3999a",
   "metadata": {},
   "outputs": [],
   "source": [
    "dataset = PPIYeastSlimDataset()\n",
    "#root = \"data_old/\"\n",
    "#dataset = PathDataset(root+\"yeast-classes.owl\", root+\"valid.owl\", root+\"test.owl\")"
   ]
  },
  {
   "cell_type": "markdown",
   "id": "306b4c02",
   "metadata": {},
   "source": [
    "## ELEmbeddings"
   ]
  },
  {
   "cell_type": "code",
   "execution_count": null,
   "id": "473b06d1",
   "metadata": {},
   "outputs": [],
   "source": [
    "device = \"cuda\"\n",
    "model = ELEmbeddings(dataset, epochs = 5001, margin = -0.1, device = device, model_filepath = \"data/models/elmodel.th\")\n",
    "#model.train()\n",
    "model.load_best_model()"
   ]
  },
  {
   "cell_type": "markdown",
   "id": "2cc100d8",
   "metadata": {},
   "source": [
    "Train the model"
   ]
  },
  {
   "cell_type": "code",
   "execution_count": null,
   "id": "71459389",
   "metadata": {
    "scrolled": true
   },
   "outputs": [],
   "source": [
    "#model.train()"
   ]
  },
  {
   "cell_type": "markdown",
   "id": "a1ea993b",
   "metadata": {},
   "source": [
    "## Inference "
   ]
  },
  {
   "cell_type": "code",
   "execution_count": null,
   "id": "dffd2297",
   "metadata": {},
   "outputs": [],
   "source": [
    "from mowl.inference.el import GCI0Score\n",
    "gci0_score = GCI0Score(model.gci0_loss, [\"http://4932.Q0045\", \"http://4932.Q0050\", \"http://4932.Q0055\"])\n",
    "print(gci0_score.patterns)\n",
    "gci0_score.score(\"not c?http.*? or c?http.*?  SubClassOf owl:Nothing\")"
   ]
  },
  {
   "cell_type": "code",
   "execution_count": null,
   "id": "d6b1e964",
   "metadata": {},
   "outputs": [],
   "source": [
    "from mowl.inference.el import GCI2Score\n",
    "embeddings, rel_embs = model.get_embeddings()\n",
    "class_list= [k for k in embeddings]\n",
    "gci2_score = GCI2Score(model.gci2_loss, class_list, property_list = list(rel_embs.keys()))\n",
    "#gci2_score = GCI2Score(model.gci2_loss, [\"http://4932.Q0045\", \"http://4932.Q0050\", \"http://4932.Q0055\"], property_list = [\"http://interacts_with\"])\n",
    "print(gci2_score.patterns)\n",
    "preds_elem = gci2_score.score(\"c?http://4932.Q0017? SubClassOf p?.*? some  c?http://4932.Q0032?\")\n",
    "preds_elem"
   ]
  },
  {
   "cell_type": "code",
   "execution_count": null,
   "id": "407bd932",
   "metadata": {
    "scrolled": false
   },
   "outputs": [],
   "source": [
    "\n",
    "from mowl.projection.factory import projector_factory\n",
    "from mowl.walking.factory import walking_factory\n",
    "\n",
    "from gensim.models import Word2Vec\n",
    "from gensim.models.word2vec import LineSentence\n",
    "\n",
    "projector = projector_factory(\"dl2vec\", bidirectional_taxonomy = True)\n",
    "edges = projector.project(dataset.ontology)\n",
    "\n",
    "walker = walking_factory(\"deepwalk\", alpha = 0.1, walk_length = 10, num_walks = 10, outfile = \"/tmp/walks.txt\")\n",
    "walker.walk(edges)\n",
    "corpus = LineSentence(\"/tmp/walks.txt\")\n",
    "\n",
    "w2v_model = Word2Vec(\n",
    "       corpus,\n",
    "       sg=1,\n",
    "       min_count=1,\n",
    "       vector_size=10,\n",
    "       window = 10,\n",
    "       epochs = 10,\n",
    "       workers = 16)\n",
    "\n",
    "\n",
    "\n",
    "\n"
   ]
  },
  {
   "cell_type": "code",
   "execution_count": null,
   "id": "65c5093a",
   "metadata": {},
   "outputs": [],
   "source": [
    "from gensim.models import Word2Vec\n",
    "#w2v_model.save(\"/tmp/w2v_model\")\n",
    "w2v_model = Word2Vec.load(\"/tmp/w2v_model\")\n",
    "embeddings = w2v_model.wv"
   ]
  },
  {
   "cell_type": "code",
   "execution_count": null,
   "id": "40fff078",
   "metadata": {},
   "outputs": [],
   "source": []
  },
  {
   "cell_type": "code",
   "execution_count": null,
   "id": "ba020f8b",
   "metadata": {},
   "outputs": [],
   "source": [
    "from mowl.inference.cosine import CosineSimilarityInfer\n",
    "print(len(embeddings))\n",
    "cos_infer = CosineSimilarityInfer(embeddings, \"http://interacts_with\")\n",
    "preds = cos_infer.score(\"c?.*?4932\\.(Q|Q).*? SubClassOf http://interacts_with some  c?.*?4932.*?\")\n",
    "len(preds)"
   ]
  },
  {
   "cell_type": "code",
   "execution_count": null,
   "id": "68377e04",
   "metadata": {},
   "outputs": [],
   "source": [
    "#preds"
   ]
  },
  {
   "cell_type": "code",
   "execution_count": null,
   "id": "ef61ee2f",
   "metadata": {},
   "outputs": [],
   "source": [
    "from mowl.evaluation.predictions import evaluate_predictions\n",
    "from mowl.corpus.base import extract_axiom_corpus\n",
    "corpus = extract_axiom_corpus(dataset.testing)\n",
    "\n",
    "metrics = evaluate_predictions(corpus, preds_elem, [1,10, 100, 1000, 10000, 160000, 162918, 3336802], pos_label = 0)\n",
    "print(metrics)"
   ]
  },
  {
   "cell_type": "code",
   "execution_count": null,
   "id": "969b462a",
   "metadata": {},
   "outputs": [],
   "source": [
    "import pickle as pkl\n",
    "with open(\"predictions.pkl\", \"wb\") as f:\n",
    "    pkl.dump(preds, f)"
   ]
  },
  {
   "cell_type": "code",
   "execution_count": null,
   "id": "f59eda5b",
   "metadata": {},
   "outputs": [],
   "source": [
    "for p in preds:\n",
    "    print(p)"
   ]
  },
  {
   "cell_type": "code",
   "execution_count": null,
   "id": "edfb894d",
   "metadata": {},
   "outputs": [],
   "source": []
  },
  {
   "cell_type": "code",
   "execution_count": null,
   "id": "3d08d974",
   "metadata": {},
   "outputs": [],
   "source": []
  },
  {
   "cell_type": "code",
   "execution_count": null,
   "id": "250eed2a",
   "metadata": {},
   "outputs": [],
   "source": []
  },
  {
   "cell_type": "code",
   "execution_count": null,
   "id": "bcbdeb63",
   "metadata": {},
   "outputs": [],
   "source": []
  },
  {
   "cell_type": "code",
   "execution_count": null,
   "id": "360339fa",
   "metadata": {},
   "outputs": [],
   "source": [
    "exclude_gos = lambda x: not \"GO\" in x \n",
    "subclass_condition = lambda x: x in [\"http://4932.Q0045\", \"http://4932.Q0050\", \"http://4932.Q0055\"]\n",
    "relation_condition = lambda x: x in [\"http://interacts_with\"]\n",
    "\n",
    "    model.infer_gci2(\"infer_property\", top_k = float(\"inf\"), subclass_condition=subclass_condition,  filler_condition = exclude_gos, axioms_to_filter = dataset.ontology )\n",
    " #   model.infer_gci2(top_k = 10, mode = \"infer_subclass\", subclass_condition=exclude_gos, property_condition = relation_condition,  filler_condition = exclude_gos )\n",
    " #   model.infer_gci2(top_k = 10, mode = \"infer_filler\", subclass_condition=exclude_gos, property_condition = relation_condition,  filler_condition = exclude_gos )\n"
   ]
  },
  {
   "cell_type": "code",
   "execution_count": null,
   "id": "36b3cb54",
   "metadata": {},
   "outputs": [],
   "source": [
    "property_inferences = model.property_inferences\n",
    "non_zero_inferences = {k:v for k,v in property_inferences.items() if v > 0.0}\n",
    "#len(subclass_inferences)\n",
    "len(non_zero_inferences)"
   ]
  },
  {
   "cell_type": "code",
   "execution_count": null,
   "id": "ba64385c",
   "metadata": {},
   "outputs": [],
   "source": [
    "list(non_zero_inferences.items())[:10]"
   ]
  },
  {
   "cell_type": "code",
   "execution_count": null,
   "id": "8b474a1f",
   "metadata": {},
   "outputs": [],
   "source": [
    "model.infer_gci2(\"infer_filler\", top_k = 1000, subclass_condition=subclass_condition, property_condition = relation_condition, filler_condition = exclude_gos, axioms_to_filter = dataset.ontology )\n",
    "filler_inferences = model.filler_inferences"
   ]
  },
  {
   "cell_type": "code",
   "execution_count": null,
   "id": "8362ff20",
   "metadata": {},
   "outputs": [],
   "source": [
    "len(filler_inferences)"
   ]
  },
  {
   "cell_type": "code",
   "execution_count": null,
   "id": "f60c5e58",
   "metadata": {},
   "outputs": [],
   "source": [
    "filler_inferences"
   ]
  },
  {
   "cell_type": "code",
   "execution_count": null,
   "id": "0a3d0d67",
   "metadata": {},
   "outputs": [],
   "source": [
    "\n",
    "#model = ELEmbeddings(dataset, epochs = 5000, margin = -0.1, device = \"cuda\")\n",
    "model.evaluate_ppi()\n"
   ]
  },
  {
   "cell_type": "code",
   "execution_count": null,
   "id": "3e4b531c",
   "metadata": {},
   "outputs": [],
   "source": []
  },
  {
   "cell_type": "code",
   "execution_count": null,
   "id": "f0c98eee",
   "metadata": {},
   "outputs": [],
   "source": [
    "cls_dict, _ = model.get_entities_index_dict()\n",
    "qwe = {v: k for k,v in cls_dict.items()}\n",
    "qwe[34793]"
   ]
  },
  {
   "cell_type": "code",
   "execution_count": null,
   "id": "0571a481",
   "metadata": {},
   "outputs": [],
   "source": [
    "cls_embs, _ = model.get_embeddings()"
   ]
  },
  {
   "cell_type": "code",
   "execution_count": null,
   "id": "69e0f48a",
   "metadata": {},
   "outputs": [],
   "source": [
    "clskeys = set(cls_embs.keys())\n",
    "assert 'http://purl.obolibrary.org/obo/GO_0008040' in clskeys"
   ]
  },
  {
   "cell_type": "code",
   "execution_count": null,
   "id": "9c9ee9a3",
   "metadata": {},
   "outputs": [],
   "source": [
    "print(clskeys)"
   ]
  },
  {
   "cell_type": "code",
   "execution_count": null,
   "id": "88942f8d",
   "metadata": {},
   "outputs": [],
   "source": [
    "model.evaluate_ppi()"
   ]
  },
  {
   "cell_type": "markdown",
   "id": "7885135e",
   "metadata": {},
   "source": [
    "# Evaluation"
   ]
  },
  {
   "cell_type": "code",
   "execution_count": null,
   "id": "27c43c19",
   "metadata": {},
   "outputs": [],
   "source": [
    "from mowl.evaluation.rank_based import ModelRankBasedEvaluator\n",
    "device = \"cuda\"\n",
    "#model = ELEmbeddings(dataset, epochs = 5000, margin = -0.1, device = device)\n",
    "evaluator = ModelRankBasedEvaluator(\n",
    "        model,\n",
    "        device = device\n",
    "        )\n"
   ]
  },
  {
   "cell_type": "code",
   "execution_count": null,
   "id": "25dca5fd",
   "metadata": {},
   "outputs": [],
   "source": [
    "evaluator.evaluate(show=True)"
   ]
  },
  {
   "cell_type": "code",
   "execution_count": null,
   "id": "26a6f06d",
   "metadata": {},
   "outputs": [],
   "source": [
    "evaluator.evaluate(show=True)"
   ]
  },
  {
   "cell_type": "markdown",
   "id": "d402f53d",
   "metadata": {},
   "source": [
    "# TSNE"
   ]
  },
  {
   "cell_type": "code",
   "execution_count": null,
   "id": "466a34db",
   "metadata": {},
   "outputs": [],
   "source": [
    "ec_numbers = {}\n",
    "with open('data/yeast_ec.tab') as f:\n",
    "    next(f)\n",
    "    for line in f:\n",
    "        it = line.strip().split('\\t', -1)\n",
    "        if len(it) < 5:\n",
    "            continue\n",
    "        if it[3]:\n",
    "            prot_id = it[3].split(';')[0]\n",
    "            prot_id = '{0}'.format(prot_id)\n",
    "            ec_numbers[f\"http://{prot_id}\"] = it[4].split(\".\")[0]\n"
   ]
  },
  {
   "cell_type": "code",
   "execution_count": null,
   "id": "42833a9b",
   "metadata": {},
   "outputs": [],
   "source": [
    "from mowl.projection.edge import Edge\n",
    "from mowl.projection.factory import projector_factory\n",
    "eval_projector = projector_factory('taxonomy_rels', taxonomy=False, relations=[\"http://interacts_with\"])\n",
    "\n",
    "training_set = eval_projector.project(dataset.ontology)\n",
    "testing_set = eval_projector.project(dataset.testing)\n",
    "\n",
    "training_entities,_ = Edge.getEntitiesAndRelations(training_set)\n",
    "testing_entities,_ = Edge.getEntitiesAndRelations(testing_set)\n",
    "\n",
    "entities = list(set(training_entities) | set(testing_entities))\n",
    "print(len(entities))"
   ]
  },
  {
   "cell_type": "code",
   "execution_count": null,
   "id": "872b0a44",
   "metadata": {},
   "outputs": [],
   "source": [
    "from mowl.visualization.base import TSNE\n",
    "\n",
    "cls_embeddings, _ = model.get_embeddings()\n",
    "\n",
    "tsne = TSNE(cls_embeddings, ec_numbers, entities = entities)\n",
    "tsne.generate_points(5000, workers = 16, verbose = 1)"
   ]
  },
  {
   "cell_type": "code",
   "execution_count": null,
   "id": "180b685c",
   "metadata": {},
   "outputs": [],
   "source": [
    "tsne.show()"
   ]
  },
  {
   "cell_type": "code",
   "execution_count": null,
   "id": "8a1d9bad",
   "metadata": {},
   "outputs": [],
   "source": [
    "tsne.show()"
   ]
  },
  {
   "cell_type": "code",
   "execution_count": null,
   "id": "2e05dce3",
   "metadata": {},
   "outputs": [],
   "source": [
    "X = TSNE(n_components=2, verbose=1, n_iter=2500).fit_transform(embeddings)"
   ]
  }
 ],
 "metadata": {
  "kernelspec": {
   "display_name": "mowldev",
   "language": "python",
   "name": "mowldev"
  },
  "language_info": {
   "codemirror_mode": {
    "name": "ipython",
    "version": 3
   },
   "file_extension": ".py",
   "mimetype": "text/x-python",
   "name": "python",
   "nbconvert_exporter": "python",
   "pygments_lexer": "ipython3",
   "version": "3.9.10"
  }
 },
 "nbformat": 4,
 "nbformat_minor": 5
}
