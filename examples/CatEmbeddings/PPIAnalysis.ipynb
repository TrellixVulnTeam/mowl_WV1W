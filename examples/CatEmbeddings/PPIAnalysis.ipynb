{
 "cells": [
  {
   "cell_type": "markdown",
   "metadata": {},
   "source": [
    "## PPI YEAST ANALYSIS"
   ]
  },
  {
   "cell_type": "markdown",
   "metadata": {},
   "source": [
    "### Load annotations"
   ]
  },
  {
   "cell_type": "code",
   "execution_count": null,
   "metadata": {},
   "outputs": [],
   "source": [
    "import matplotlib.pyplot as plt\n",
    "import pickle as pkl\n",
    "import pandas as pd"
   ]
  },
  {
   "cell_type": "code",
   "execution_count": null,
   "metadata": {},
   "outputs": [],
   "source": [
    "annots_file_yeast = \"data/ppi/4932.annotations.tsv\"\n",
    "annots_yeast = open(annots_file_yeast, 'r')\n",
    "\n",
    "annots_dict = {x[0]: x[1:] for l in annots_yeast.readlines() if (x := l.strip().split('\\t')) is not None} "
   ]
  },
  {
   "cell_type": "code",
   "execution_count": null,
   "metadata": {},
   "outputs": [],
   "source": [
    "len(annots_dict)"
   ]
  },
  {
   "cell_type": "code",
   "execution_count": null,
   "metadata": {},
   "outputs": [],
   "source": [
    "goClasses = {}\n",
    "\n",
    "for prot, classes in annots_dict.items():\n",
    "    for cls in classes:\n",
    "        if cls in goClasses:\n",
    "            goClasses[cls] +=1\n",
    "        else:\n",
    "            goClasses[cls] = 1\n",
    "\n",
    "max_value = max(goClasses, key=goClasses.get)\n",
    "print(max_value, goClasses[max_value])\n"
   ]
  },
  {
   "cell_type": "code",
   "execution_count": null,
   "metadata": {},
   "outputs": [],
   "source": [
    "#del goClasses[\"GO:0005575\"]\n",
    "max_value = max(goClasses, key=goClasses.get)\n",
    "print(max_value, goClasses[max_value])\n",
    "\n",
    "plt.figure(figsize=(12,12))\n",
    "plt.bar(list(goClasses.keys()), goClasses.values(), color='g')\n",
    "plt.show()"
   ]
  },
  {
   "cell_type": "markdown",
   "metadata": {},
   "source": [
    "### Look for proteins with only _binding_ annotation"
   ]
  },
  {
   "cell_type": "code",
   "execution_count": null,
   "metadata": {},
   "outputs": [],
   "source": [
    "goClasses[\"GO:0005488\"]"
   ]
  },
  {
   "cell_type": "code",
   "execution_count": null,
   "metadata": {},
   "outputs": [],
   "source": [
    "for prot, classes in annots_dict.items():\n",
    "    if len(classes) == 1:\n",
    "        print(len(classes))\n",
    "\n"
   ]
  },
  {
   "cell_type": "markdown",
   "metadata": {},
   "source": [
    "### Load Interactions"
   ]
  },
  {
   "cell_type": "code",
   "execution_count": null,
   "metadata": {},
   "outputs": [],
   "source": [
    "def loadInteractionsFile(file_name):\n",
    "    data_frame_train = pd.read_pickle(file_name)\n",
    "\n",
    "    degrees = {}\n",
    "    pos = 0\n",
    "    neg = 0\n",
    "\n",
    "    for row in data_frame_train.itertuples():\n",
    "        p1, p2 = row.interactions\n",
    "        label = row.labels\n",
    "\n",
    "        if label == 1:\n",
    "            pos += 1\n",
    "            if p1 in degrees:\n",
    "                degrees[p1] += 1\n",
    "            else:\n",
    "                degrees[p1] = 1\n",
    "            if p2 in degrees:\n",
    "                degrees[p2] += 1\n",
    "            else:\n",
    "                degrees[p2] = 1\n",
    "        else:\n",
    "            neg +=1\n",
    "\n",
    "    total = pos + neg\n",
    "    print(f\"Positives: {pos} ({pos/total}%), Negatives: {neg} ({neg/total}%), Total: {pos + neg}, Pos/Neg: {pos/neg}\")\n",
    "    return degrees"
   ]
  },
  {
   "cell_type": "code",
   "execution_count": null,
   "metadata": {},
   "outputs": [],
   "source": [
    "train_interactions_file = \"data/ppi/4932.train_interactions.pkl\"\n",
    "degreesTrain = loadInteractionsFile(train_interactions_file)\n",
    "\n",
    "val_interactions_file = \"data/ppi/4932.valid_interactions.pkl\"\n",
    "degreesVal = loadInteractionsFile(val_interactions_file)\n",
    "\n",
    "test_interactions_file = \"data/ppi/4932.test_interactions.pkl\"\n",
    "degreesTest = loadInteractionsFile(test_interactions_file)\n",
    "\n",
    "max_value_train = max(degreesTrain, key=degreesTrain.get)\n",
    "print(max_value_train, degreesTrain[max_value_train])\n",
    "\n",
    "max_value_val = max(degreesVal, key=degreesVal.get)\n",
    "print(max_value_val, degreesVal[max_value_val])\n",
    "\n",
    "max_value_test = max(degreesTest, key=degreesTest.get)\n",
    "print(max_value_test, degreesTest[max_value_test])\n",
    "\n",
    "#print(sorted(annots_dict[max_value_train]))\n",
    "#print(sorted(annots_dict[max_value_val]))\n",
    "#print(sorted(annots_dict[max_value_test]))"
   ]
  },
  {
   "cell_type": "code",
   "execution_count": null,
   "metadata": {},
   "outputs": [],
   "source": [
    "plt.figure(figsize=(12,12))\n",
    "plt.bar(list(degrees.keys()), degrees.values(), color='g')\n",
    "plt.show()"
   ]
  },
  {
   "cell_type": "markdown",
   "metadata": {},
   "source": [
    "## IC"
   ]
  },
  {
   "cell_type": "code",
   "execution_count": null,
   "metadata": {},
   "outputs": [],
   "source": [
    "import sys\n",
    "sys.path.append(\"../../../\")\n",
    "\n",
    "from mowl.datasets.base import PathDataset\n",
    "from org.mowl.IC import IC\n",
    "import pandas as pd\n",
    "\n",
    "#JPype\n",
    "from jpype import JObject\n",
    "from java.util import HashMap\n",
    "from java.util import ArrayList\n",
    "\n",
    "def getAnnotsDict(training_prots):\n",
    "    data_file = \"data/ppi/4932.annotations.tsv\"\n",
    "\n",
    "    with open(data_file, 'r') as f:\n",
    "        rows = [line.strip('\\n').split('\\t') for line in f.readlines()]\n",
    "\n",
    "        annots_dict = HashMap()\n",
    "\n",
    "        for i, row  in enumerate(rows):\n",
    "            prot_id = row[0]\n",
    "\n",
    "            if prot_id in training_prots:\n",
    "                if not prot_id in annots_dict:\n",
    "                    annots_dict.put(prot_id, ArrayList())\n",
    "\n",
    "            for go_id in row[1:]:\n",
    "\n",
    "                if prot_id in training_prots:\n",
    "                    prot_annots = annots_dict[prot_id]\n",
    "                    prot_annots.add(go_id)\n",
    "                    annots_dict.put(prot_id, prot_annots)\n",
    "\n",
    "    return annots_dict"
   ]
  },
  {
   "cell_type": "code",
   "execution_count": null,
   "metadata": {},
   "outputs": [],
   "source": [
    "\n",
    "\n",
    "ds = PathDataset(\"data/ppi/go.owl\", None, None)\n",
    "\n",
    "train_df = pd.read_pickle(\"data/ppi/4932.train_interactions.pkl\")\n",
    "\n",
    "#For computing IC\n",
    "training_prots = set()\n",
    "for row in train_df.itertuples():\n",
    "    p1, p2 = row.interactions\n",
    "    training_prots.add(p1)\n",
    "    training_prots.add(p2)\n",
    "\n",
    "annots_dict = getAnnotsDict(training_prots)\n",
    "ics = IC.computeIC(ds.ontology, annots_dict)\n",
    "ics = {format(str(k)): v for k, v in ics.items()}"
   ]
  },
  {
   "cell_type": "code",
   "execution_count": null,
   "metadata": {},
   "outputs": [],
   "source": [
    "sorted_ic = dict(sorted(ics.items(),key= lambda x:x[1]))"
   ]
  },
  {
   "cell_type": "code",
   "execution_count": null,
   "metadata": {},
   "outputs": [],
   "source": [
    "list_ic = list(sorted_ic.items())"
   ]
  },
  {
   "cell_type": "code",
   "execution_count": null,
   "metadata": {},
   "outputs": [],
   "source": [
    "list_ic[:10]"
   ]
  },
  {
   "cell_type": "code",
   "execution_count": null,
   "metadata": {},
   "outputs": [],
   "source": [
    "ics[\"http://purl.obolibrary.org/obo/GO_0005488\"]"
   ]
  },
  {
   "cell_type": "code",
   "execution_count": null,
   "metadata": {},
   "outputs": [],
   "source": [
    "list_ic[-10:]"
   ]
  },
  {
   "cell_type": "code",
   "execution_count": null,
   "metadata": {},
   "outputs": [],
   "source": []
  }
 ],
 "metadata": {
  "kernelspec": {
   "display_name": "testmowl",
   "language": "python",
   "name": "testmowl"
  },
  "language_info": {
   "codemirror_mode": {
    "name": "ipython",
    "version": 3
   },
   "file_extension": ".py",
   "mimetype": "text/x-python",
   "name": "python",
   "nbconvert_exporter": "python",
   "pygments_lexer": "ipython3",
   "version": "3.8.13"
  }
 },
 "nbformat": 4,
 "nbformat_minor": 4
}
