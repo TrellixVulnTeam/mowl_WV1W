{
 "cells": [
  {
   "cell_type": "markdown",
   "id": "ad23d7cb",
   "metadata": {},
   "source": [
    "# OPA2Vec"
   ]
  },
  {
   "cell_type": "markdown",
   "id": "1d107a1c",
   "metadata": {},
   "source": [
    "In this part of the tutorial, we run two ontology based methods to produce vector representations of biological entities: OPA2Vec."
   ]
  },
  {
   "cell_type": "markdown",
   "id": "1e1d4ee5",
   "metadata": {},
   "source": [
    "## Imports"
   ]
  },
  {
   "cell_type": "code",
   "execution_count": null,
   "id": "eab9f48f",
   "metadata": {},
   "outputs": [],
   "source": [
    "import mowl\n",
    "mowl.init_jvm(\"20g\")\n",
    "from mowl.datasets.ppi_yeast import PPIYeastSlimDataset, PPIYeastDataset\n"
   ]
  },
  {
   "cell_type": "markdown",
   "id": "b1610707",
   "metadata": {},
   "source": [
    "## Loading the dataset"
   ]
  },
  {
   "cell_type": "code",
   "execution_count": null,
   "id": "380bf101",
   "metadata": {},
   "outputs": [],
   "source": [
    "ds = PPIYeastSlimDataset()"
   ]
  },
  {
   "cell_type": "markdown",
   "id": "64a14b5e",
   "metadata": {},
   "source": [
    "## OPA2Vec"
   ]
  },
  {
   "cell_type": "markdown",
   "id": "1f6e89b3",
   "metadata": {},
   "source": [
    "Onto2vec produces vectory representations based on the logical axioms of an ontology and the known associations between ontology classes and biological entities. In the case study below, we use Onto2vec to produce vector representations of proteins based on their GO annotations and the GO logical axioms."
   ]
  },
  {
   "cell_type": "code",
   "execution_count": null,
   "id": "e4d9fd91",
   "metadata": {},
   "outputs": [],
   "source": [
    "from mowl.corpus.base import extract_axiom_corpus, extract_and_save_axiom_corpus, extract_annotation_corpus, extract_and_save_annotation_corpus\n",
    "\n",
    "corpus = extract_axiom_corpus(ds.ontology)\n",
    "extract_and_save_axiom_corpus(ds.ontology, out_file = \"data/opa2vec_axiom_corpus\")\n",
    "\n"
   ]
  },
  {
   "cell_type": "code",
   "execution_count": null,
   "id": "0d856ffc",
   "metadata": {},
   "outputs": [],
   "source": [
    "annot_corpus = extract_annotation_corpus(ds.ontology)\n",
    "extract_and_save_annotation_corpus(ds.ontology, \"data/opa2vec_axiom_corpus\", mode = \"a\")\n"
   ]
  },
  {
   "cell_type": "markdown",
   "id": "b6c382d6",
   "metadata": {},
   "source": [
    "Train the model"
   ]
  },
  {
   "cell_type": "code",
   "execution_count": null,
   "id": "324f3bfe",
   "metadata": {},
   "outputs": [],
   "source": []
  },
  {
   "cell_type": "markdown",
   "id": "c22c95a5",
   "metadata": {},
   "source": [
    "Evaluate PPI prediction performance"
   ]
  },
  {
   "cell_type": "code",
   "execution_count": null,
   "id": "116a4168",
   "metadata": {},
   "outputs": [],
   "source": [
    "mean_rank, rank_1, rank_10, rank_100 = model.evaluate_ppi()\n",
    "print(f'Mean rank: {mean_rank}, Top 1: {rank_1}, Top 10: {rank_10}, Top 100: {rank_100}')"
   ]
  },
  {
   "cell_type": "code",
   "execution_count": null,
   "id": "ffb271ca",
   "metadata": {},
   "outputs": [],
   "source": [
    "nodemap = {}\n",
    "embeddings = model.w2v_model.wv"
   ]
  },
  {
   "cell_type": "code",
   "execution_count": null,
   "id": "4d57613c",
   "metadata": {},
   "outputs": [],
   "source": [
    "n = len(embeddings)\n",
    "emb_size = len(embeddings[0])\n",
    "embeds = np.zeros((n, emb_size), dtype=np.float32)\n",
    "for i in range(n):\n",
    "    embeds[i, :] = embeddings[i]\n",
    "X = TSNE(n_components=2, verbose=1, n_iter=2500).fit_transform(embeds)"
   ]
  },
  {
   "cell_type": "code",
   "execution_count": null,
   "id": "8fe6e70a",
   "metadata": {},
   "outputs": [],
   "source": [
    "ec_numbers = {}\n",
    "with open('../../../data/yeast_ec.tab') as f:\n",
    "    next(f)\n",
    "    for line in f:\n",
    "        it = line.strip().split('\\t', -1)\n",
    "        if len(it) < 5:\n",
    "            continue\n",
    "        if it[3]:\n",
    "            prot_id = it[3].split(';')[0]\n",
    "            prot_id = '{0}'.format(prot_id)    \n",
    "            ec_numbers[prot_id] = it[4]\n",
    "classes = {'0': [[], []]}\n",
    "for i in range(n):\n",
    "    v = embeddings.index_to_key[i]\n",
    "    if not v.startswith('<http://4932'):\n",
    "        continue\n",
    "    v = v[8:-1]\n",
    "    if v in ec_numbers:\n",
    "        ec = ec_numbers[v].split('.')[0]\n",
    "        if ec not in classes:\n",
    "            classes[ec] = [[], []]\n",
    "        classes[ec][0].append(X[i, 0])\n",
    "        classes[ec][1].append(X[i, 1])\n",
    "        \n",
    "colors = iter(plt.cm.rainbow(np.linspace(0, 1, len(classes))))\n",
    "fig, ax = plt.subplots(figsize=(20, 20))\n",
    "\n",
    "for ec, items in classes.items():\n",
    "    if ec == '0':\n",
    "        continue\n",
    "    color = next(colors)\n",
    "    ax.scatter(items[0], items[1], color=color, label=ec)\n",
    "\n",
    "ax.legend()\n",
    "ax.grid(True)\n",
    "\n",
    "plt.show()"
   ]
  }
 ],
 "metadata": {
  "kernelspec": {
   "display_name": "testmowl",
   "language": "python",
   "name": "testmowl"
  },
  "language_info": {
   "codemirror_mode": {
    "name": "ipython",
    "version": 3
   },
   "file_extension": ".py",
   "mimetype": "text/x-python",
   "name": "python",
   "nbconvert_exporter": "python",
   "pygments_lexer": "ipython3",
   "version": "3.8.13"
  }
 },
 "nbformat": 4,
 "nbformat_minor": 5
}
