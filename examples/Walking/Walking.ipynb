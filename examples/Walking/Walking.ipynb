{
 "cells": [
  {
   "cell_type": "markdown",
   "id": "5f30eb87",
   "metadata": {},
   "source": [
    "# Walking"
   ]
  },
  {
   "cell_type": "code",
   "execution_count": null,
   "id": "6dad3ff1",
   "metadata": {},
   "outputs": [],
   "source": [
    "import mowl\n",
    "mowl.init_jvm(\"20g\")\n",
    "\n",
    "from mowl.datasets.ppi_yeast import PPIYeastSlimDataset\n",
    "import logging\n",
    "logging.basicConfig(level = logging.INFO)\n"
   ]
  },
  {
   "cell_type": "markdown",
   "id": "0aab4589",
   "metadata": {},
   "source": [
    "## Loading a dataset"
   ]
  },
  {
   "cell_type": "code",
   "execution_count": null,
   "id": "26ce7271",
   "metadata": {},
   "outputs": [],
   "source": [
    "ds = PPIYeastSlimDataset()"
   ]
  },
  {
   "cell_type": "markdown",
   "id": "c04e83cf",
   "metadata": {},
   "source": [
    "## Projecting the ontology\n",
    "First we need to get a graph from an ontology. The following function will do it:"
   ]
  },
  {
   "cell_type": "code",
   "execution_count": null,
   "id": "3b1fadc4",
   "metadata": {},
   "outputs": [],
   "source": [
    "from mowl.projection.factory import projector_factory\n",
    "projector = projector_factory(\"dl2vec\", bidirectional_taxonomy = True)\n",
    "edges = projector.project(ds.ontology)"
   ]
  },
  {
   "cell_type": "markdown",
   "id": "14d357e3",
   "metadata": {},
   "source": [
    "## Generate Random Walks"
   ]
  },
  {
   "cell_type": "code",
   "execution_count": null,
   "id": "a82f9935",
   "metadata": {},
   "outputs": [],
   "source": [
    "from mowl.walking.factory import walking_factory\n",
    "walker = walking_factory(\"node2vec\", num_walks = 10, walk_length = 10,  alpha = 0.1, workers = 16)\n",
    "walker.walk(edges)"
   ]
  },
  {
   "cell_type": "markdown",
   "id": "e5996a9f",
   "metadata": {},
   "source": [
    "## Learning embeddings with Word2Vec\n",
    "\n",
    "Once the walks are generated, we will use them to learn embeddings using the Word2Vec model:"
   ]
  },
  {
   "cell_type": "code",
   "execution_count": null,
   "id": "2aaf2edc",
   "metadata": {},
   "outputs": [],
   "source": [
    "import gensim\n",
    "from gensim.models.word2vec import LineSentence\n",
    "sentences = gensim.models.word2vec.LineSentence(walker.outfile)\n",
    "\n",
    "model = gensim.models.Word2Vec(\n",
    "        sentences, \n",
    "        sg=1, \n",
    "        min_count=1, \n",
    "        vector_size=100, \n",
    "        window = 10, \n",
    "        epochs = 10, \n",
    "        workers = 16)\n",
    "vectors = model.wv\n"
   ]
  },
  {
   "cell_type": "markdown",
   "id": "7db2d6ae",
   "metadata": {},
   "source": [
    "## Plotting TSNE representations\n",
    "Once the embeddings are ready, we can use them for different tasks. Here we use the TSNE method to have a visual representation of them:"
   ]
  },
  {
   "cell_type": "code",
   "execution_count": null,
   "id": "5379c41a",
   "metadata": {},
   "outputs": [],
   "source": [
    "from mowl.visualization.base import TSNE\n",
    "\n",
    "labels = ds.get_labels()\n",
    "\n",
    "tsne = TSNE(vectors, labels)\n",
    "tsne.generate_points(5000, workers = 8)\n",
    "tsne.show()"
   ]
  },
  {
   "cell_type": "markdown",
   "id": "53fd4d7f",
   "metadata": {},
   "source": [
    "## Putting all together and trying different walking methods\n",
    "Now, we can use the functions defined above and test them with the walking methods existing in mOWL"
   ]
  },
  {
   "cell_type": "code",
   "execution_count": null,
   "id": "434da9b9",
   "metadata": {},
   "outputs": [],
   "source": [
    "from mowl.walking.node2vec.model import Node2Vec as N2V\n",
    "from mowl.walking.deepwalk.model import DeepWalk as DW\n",
    "from mowl.walking.walkRdfAndOwl.model import WalkRDFAndOWL as WRO"
   ]
  },
  {
   "cell_type": "code",
   "execution_count": null,
   "id": "ce8b199d",
   "metadata": {},
   "outputs": [],
   "source": [
    "edges, entities = getOntProjection() "
   ]
  },
  {
   "cell_type": "markdown",
   "id": "4ef0cfb1",
   "metadata": {},
   "source": [
    "### DeepWalk"
   ]
  },
  {
   "cell_type": "code",
   "execution_count": null,
   "id": "9a1bd942",
   "metadata": {},
   "outputs": [],
   "source": [
    "logging.info(\"Walking..\")\n",
    "start = time.time()\n",
    "walksFile = \"data/walksDeepwalk\"\n",
    "walker = DW(\n",
    "        edges, \n",
    "        100, #num_walks \n",
    "        100, #walk_length \n",
    "        0.1, #alpha\n",
    "        walksFile, #file to write the walks\n",
    "        workers = 16, #num_workers,\n",
    "    )\n",
    "\n",
    "walker.walk()\n",
    "end = time.time()\n",
    "logging.info(\"Walks generated in %f seconds\", end - start)\n",
    "\n",
    "dwEmbeddings, size = learnEmbeddingsWithWord2Vec(walksFile, entities)\n"
   ]
  },
  {
   "cell_type": "code",
   "execution_count": null,
   "id": "c29536b0",
   "metadata": {},
   "outputs": [],
   "source": [
    "plotTSNE(dwEmbeddings, size)"
   ]
  },
  {
   "cell_type": "markdown",
   "id": "bce05f65",
   "metadata": {},
   "source": [
    "## Node2Vec"
   ]
  },
  {
   "cell_type": "code",
   "execution_count": null,
   "id": "e49d1704",
   "metadata": {},
   "outputs": [],
   "source": [
    "logging.info(\"Walking..\")\n",
    "start = time.time()\n",
    "walksFile = \"data/walksNode2Vec\"\n",
    "\n",
    "walker = N2V(\n",
    "        edges, \n",
    "        100, #num_walks \n",
    "        100, #walk_length \n",
    "        10, #p\n",
    "        0.1, #q\n",
    "        walksFile,\n",
    "        workers = 16, #num_workers,\n",
    "    )\n",
    "    \n",
    "\n",
    "walker.walk()\n",
    "end = time.time()\n",
    "logging.info(\"Walks generated in %f seconds\", end - start)\n",
    "\n",
    "n2vEmbeddings, size = learnEmbeddingsWithWord2Vec(walksFile, entities)\n"
   ]
  },
  {
   "cell_type": "code",
   "execution_count": null,
   "id": "23ccf9e0",
   "metadata": {},
   "outputs": [],
   "source": [
    "plotTSNE(n2vEmbeddings, size)"
   ]
  },
  {
   "cell_type": "markdown",
   "id": "f163ed9e",
   "metadata": {},
   "source": [
    "## Walking RDF and OWL"
   ]
  },
  {
   "cell_type": "code",
   "execution_count": null,
   "id": "76b29a61",
   "metadata": {},
   "outputs": [],
   "source": [
    "logging.info(\"Walking..\")\n",
    "start = time.time()\n",
    "walksFile = \"data/walksWalkRDFAndOWL\"\n",
    "\n",
    "walker = WRO(\n",
    "        edges, \n",
    "        100, #num_walks \n",
    "        100, #walk_length \n",
    "        walksFile,\n",
    "        workers = 16, #num_workers,\n",
    "    )\n",
    "    \n",
    "\n",
    "walker.walk()\n",
    "end = time.time()\n",
    "logging.info(\"Walks generated in %f seconds\", end - start)\n",
    "\n",
    "wroEmbeddings, size = learnEmbeddingsWithWord2Vec(walksFile, entities)"
   ]
  },
  {
   "cell_type": "code",
   "execution_count": null,
   "id": "c83458a5",
   "metadata": {},
   "outputs": [],
   "source": [
    "plotTSNE(wroEmbeddings, size)"
   ]
  },
  {
   "cell_type": "code",
   "execution_count": null,
   "id": "bf89f5ae",
   "metadata": {},
   "outputs": [],
   "source": []
  }
 ],
 "metadata": {
  "kernelspec": {
   "display_name": "testmowl",
   "language": "python",
   "name": "testmowl"
  },
  "language_info": {
   "codemirror_mode": {
    "name": "ipython",
    "version": 3
   },
   "file_extension": ".py",
   "mimetype": "text/x-python",
   "name": "python",
   "nbconvert_exporter": "python",
   "pygments_lexer": "ipython3",
   "version": "3.8.13"
  }
 },
 "nbformat": 4,
 "nbformat_minor": 5
}
