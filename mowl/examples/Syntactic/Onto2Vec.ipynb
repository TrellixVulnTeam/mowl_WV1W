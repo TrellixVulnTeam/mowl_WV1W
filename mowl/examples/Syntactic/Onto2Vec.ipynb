{
 "cells": [
  {
   "cell_type": "markdown",
   "id": "7e5b6b26",
   "metadata": {},
   "source": [
    "# Onto2Vec"
   ]
  },
  {
   "cell_type": "markdown",
   "id": "8eb361d7",
   "metadata": {},
   "source": [
    "In this part of the tutorial, we run two ontology based methods to produce vector representations of biological entities: Onto2Vec and OPA2Vec."
   ]
  },
  {
   "cell_type": "markdown",
   "id": "6d717e99",
   "metadata": {},
   "source": [
    "## Imports"
   ]
  },
  {
   "cell_type": "code",
   "execution_count": null,
   "id": "e79a334a",
   "metadata": {},
   "outputs": [],
   "source": [
    "import mowl\n",
    "mowl.init_jvm(\"20g\")\n",
    "from mowl.datasets.ppi_yeast import PPIYeastSlimDataset, PPIYeastDataset\n"
   ]
  },
  {
   "cell_type": "code",
   "execution_count": null,
   "id": "6c743e81",
   "metadata": {},
   "outputs": [],
   "source": [
    "from mowl.reasoning.base import MOWLReasoner\n",
    "from org.semanticweb.elk.owlapi import ElkReasonerFactory\n",
    "from org.semanticweb.HermiT import Reasoner"
   ]
  },
  {
   "cell_type": "code",
   "execution_count": null,
   "id": "6cffe3ec",
   "metadata": {},
   "outputs": [],
   "source": [
    "\n",
    "ds = PPIYeastSlimDataset()\n",
    "\n",
    "reasonerFactory = ElkReasonerFactory()\n",
    "reasoner = reasonerFactory.createReasoner(ds.ontology)\n",
    "reasoner.precomputeInferences()\n",
    "\n",
    "consistent = reasoner.isConsistent()\n",
    "print(f\"consistent: {consistent}\")\n",
    "\n",
    "mreasoner = MOWLReasoner(reasoner)\n",
    "mreasoner.infer_subclass_axioms(ds.ontology)\n",
    "mreasoner.infer_equiv_class_axioms(ds.ontology)\n",
    "\n"
   ]
  },
  {
   "cell_type": "markdown",
   "id": "647b4278",
   "metadata": {},
   "source": [
    "## Onto2Vec"
   ]
  },
  {
   "cell_type": "markdown",
   "id": "a0ba263f",
   "metadata": {},
   "source": [
    "Onto2vec produces vectory representations based on the logical axioms of an ontology and the known associations between ontology classes and biological entities. In the case study below, we use Onto2vec to produce vector representations of proteins based on their GO annotations and the GO logical axioms."
   ]
  },
  {
   "cell_type": "code",
   "execution_count": null,
   "id": "a9f61bc2",
   "metadata": {},
   "outputs": [],
   "source": [
    "from mowl.corpus.base import extract_axiom_corpus, extract_and_save_axiom_corpus\n",
    "corpus = extract_axiom_corpus(ds.ontology)\n",
    "extract_and_save_axiom_corpus(ds.ontology, out_file = \"data/onto2vec_axiom_corpus\")"
   ]
  },
  {
   "cell_type": "code",
   "execution_count": null,
   "id": "118a3707",
   "metadata": {},
   "outputs": [],
   "source": [
    "len(corpus)"
   ]
  },
  {
   "cell_type": "code",
   "execution_count": null,
   "id": "527f6dd3",
   "metadata": {},
   "outputs": [],
   "source": [
    "from gensim.models import Word2Vec\n",
    "from gensim.models.word2vec import LineSentence\n",
    "sentences = LineSentence(\"data/onto2vec_corpus\")\n",
    "\n",
    "model = Word2Vec(\n",
    "         sentences,\n",
    "         sg = 1,\n",
    "         min_count = 1,\n",
    "         vector_size = 20,\n",
    "         window = 5,\n",
    "         epochs = 20,\n",
    "         workers = 4\n",
    "     )\n",
    "\n",
    "vectors = model.wv\n"
   ]
  },
  {
   "cell_type": "markdown",
   "id": "a46c3f29",
   "metadata": {},
   "source": [
    "# Evaluation"
   ]
  },
  {
   "cell_type": "code",
   "execution_count": null,
   "id": "56dc81a1",
   "metadata": {},
   "outputs": [],
   "source": [
    "from mowl.projection.edge import Edge\n",
    "from mowl.projection.factory import projector_factory\n",
    "\n",
    "eval_projector = projector_factory('taxonomy_rels', taxonomy=False, relations=[\"http://interacts_with\"])\n",
    "\n",
    "training_set = eval_projector.project(ds.ontology)\n",
    "testing_set = eval_projector.project(ds.testing)\n",
    "\n",
    "training_entities,_ = Edge.getEntitiesAndRelations(training_set)\n",
    "testing_entities,_ = Edge.getEntitiesAndRelations(testing_set)\n",
    "\n",
    "entities = list(set(training_entities) | set(testing_entities))\n"
   ]
  },
  {
   "cell_type": "code",
   "execution_count": null,
   "id": "f6641a7c",
   "metadata": {},
   "outputs": [],
   "source": [
    "from mowl.evaluation.base import RankBasedEvaluator, CosineSimilarity\n",
    "\n",
    "evaluator = RankBasedEvaluator(\n",
    "        vectors, \n",
    "        testing_set, \n",
    "        CosineSimilarity, \n",
    "        training_set = training_set, \n",
    "        head_entities=entities,\n",
    "        tail_entities=entities)\n",
    "\n",
    "evaluator.evaluate(show=True)"
   ]
  },
  {
   "cell_type": "markdown",
   "id": "73f3d4e1",
   "metadata": {},
   "source": [
    "# TSNE"
   ]
  },
  {
   "cell_type": "code",
   "execution_count": null,
   "id": "7e45919f",
   "metadata": {},
   "outputs": [],
   "source": [
    "ec_numbers = {}\n",
    "with open('data/yeast_ec.tab') as f:\n",
    "    next(f)\n",
    "    for line in f:\n",
    "        it = line.strip().split('\\t', -1)\n",
    "        if len(it) < 5:\n",
    "            continue\n",
    "        if it[3]:\n",
    "            prot_id = it[3].split(';')[0]\n",
    "            prot_id = '{0}'.format(prot_id)\n",
    "            ec_numbers[f\"http://{prot_id}\"] = it[4].split(\".\")[0]"
   ]
  },
  {
   "cell_type": "code",
   "execution_count": null,
   "id": "ec05c79a",
   "metadata": {},
   "outputs": [],
   "source": [
    "from mowl.visualization.base import TSNE as MTSNE\n",
    "\n",
    "tsne = MTSNE(vectors, ec_numbers, entities = entities)\n",
    "tsne.generate_points(5000, workers = 16, verbose = 1)"
   ]
  },
  {
   "cell_type": "code",
   "execution_count": null,
   "id": "affc9865",
   "metadata": {},
   "outputs": [],
   "source": [
    "tsne.show()"
   ]
  }
 ],
 "metadata": {
  "kernelspec": {
   "display_name": "testmowl",
   "language": "python",
   "name": "testmowl"
  },
  "language_info": {
   "codemirror_mode": {
    "name": "ipython",
    "version": 3
   },
   "file_extension": ".py",
   "mimetype": "text/x-python",
   "name": "python",
   "nbconvert_exporter": "python",
   "pygments_lexer": "ipython3",
   "version": "3.8.13"
  }
 },
 "nbformat": 4,
 "nbformat_minor": 5
}
