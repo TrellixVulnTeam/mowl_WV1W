{
 "cells": [
  {
   "cell_type": "markdown",
   "id": "ad23d7cb",
   "metadata": {},
   "source": [
    "# Onto2Vec and OPA2Vec"
   ]
  },
  {
   "cell_type": "markdown",
   "id": "1d107a1c",
   "metadata": {},
   "source": [
    "In this part of the tutorial, we run two ontology based methods to produce vector representations of biological entities: Onto2Vec and OPA2Vec."
   ]
  },
  {
   "cell_type": "markdown",
   "id": "1e1d4ee5",
   "metadata": {},
   "source": [
    "## Imports"
   ]
  },
  {
   "cell_type": "code",
   "execution_count": 9,
   "id": "eab9f48f",
   "metadata": {},
   "outputs": [],
   "source": [
    "import sys\n",
    "import os\n",
    "sys.path.append('../../../')\n",
    "from mowl.datasets.ppi_yeast import PPIYeastSlimDataset, PPIYeastDataset\n",
    "from mowl.embeddings.onto2vec.model import Onto2Vec"
   ]
  },
  {
   "cell_type": "markdown",
   "id": "b1610707",
   "metadata": {},
   "source": [
    "## Loading the dataset"
   ]
  },
  {
   "cell_type": "code",
   "execution_count": 10,
   "id": "380bf101",
   "metadata": {},
   "outputs": [
    {
     "name": "stderr",
     "output_type": "stream",
     "text": [
      "WARNING: An illegal reflective access operation has occurred\n",
      "WARNING: Illegal reflective access by com.google.inject.internal.cglib.core.$ReflectUtils$2 (file:/Users/coolmaksat/KAUST/CBRC/mowl/gateway/build/distributions/gateway/lib/guice-4.0.jar) to method java.lang.ClassLoader.defineClass(java.lang.String,byte[],int,int,java.security.ProtectionDomain)\n",
      "WARNING: Please consider reporting this to the maintainers of com.google.inject.internal.cglib.core.$ReflectUtils$2\n",
      "WARNING: Use --illegal-access=warn to enable warnings of further illegal reflective access operations\n",
      "WARNING: All illegal access operations will be denied in a future release\n"
     ]
    }
   ],
   "source": [
    "dataset = PPIYeastSlimDataset()"
   ]
  },
  {
   "cell_type": "markdown",
   "id": "64a14b5e",
   "metadata": {},
   "source": [
    "## Onto2Vec"
   ]
  },
  {
   "cell_type": "markdown",
   "id": "1f6e89b3",
   "metadata": {},
   "source": [
    "Onto2vec produces vectory representations based on the logical axioms of an ontology and the known associations between ontology classes and biological entities. In the case study below, we use Onto2vec to produce vector representations of proteins based on their GO annotations and the GO logical axioms."
   ]
  },
  {
   "cell_type": "code",
   "execution_count": 11,
   "id": "e4d9fd91",
   "metadata": {},
   "outputs": [],
   "source": [
    "model = Onto2Vec(dataset)"
   ]
  },
  {
   "cell_type": "markdown",
   "id": "b6c382d6",
   "metadata": {},
   "source": [
    "Train the model"
   ]
  },
  {
   "cell_type": "code",
   "execution_count": 12,
   "id": "324f3bfe",
   "metadata": {},
   "outputs": [
    {
     "name": "stdout",
     "output_type": "stream",
     "text": [
      "0     [main] INFO  org.semanticweb.elk.config.ConfigurationFactory  - Loading default configuration parameters for class org.semanticweb.elk.reasoner.config.ReasonerConfiguration\n",
      "185   [main] INFO  org.semanticweb.elk.reasoner.Reasoner  - ELK reasoner was created\n",
      "189   [main] INFO  org.semanticweb.elk.reasoner.stages.LoggingStageExecutor  - Loading of Axioms started\n",
      "877   [main] INFO  org.semanticweb.elk.reasoner.stages.AbstractReasonerStage  - Loading of Axioms using 8 workers\n",
      "Loading of Axioms ...\n",
      "Loading ...\n",
      "    1%\n",
      "    2%\n",
      "    3%\n",
      "    4%\n",
      "    5%\n",
      "    6%\n",
      "    7%\n",
      "    8%\n",
      "    10%\n",
      "    11%\n",
      "    12%\n",
      "    13%\n",
      "    14%\n",
      "    15%\n",
      "    17%\n",
      "    18%\n",
      "    19%\n",
      "    21%\n",
      "    22%\n",
      "    23%\n",
      "    25%\n",
      "    27%\n",
      "    29%\n",
      "    31%\n",
      "    33%\n",
      "    36%\n",
      "    38%\n",
      "    40%\n",
      "    42%\n",
      "    44%\n",
      "    46%\n",
      "1309  [main] WARN  org.semanticweb.elk.reasoner.indexing.hierarchy.ChangeIndexingProcessor  - [reasoner.indexing.axiomIgnored]ELK does not support InverseObjectProperties. Axiom ignored:\n",
      "InverseObjectProperties(<http://purl.obolibrary.org/obo/BFO_0000050> <http://purl.obolibrary.org/obo/BFO_0000051>)\n",
      "    48%\n",
      "    50%\n",
      "    51%\n",
      "    54%\n",
      "    56%\n",
      "    59%\n",
      "    61%\n",
      "    63%\n",
      "    66%\n",
      "    68%\n"
     ]
    },
    {
     "name": "stderr",
     "output_type": "stream",
     "text": [
      "1309  [main] WARN  org.semanticweb.elk.reasoner.indexing.hierarchy.ChangeIndexingProcessor  - [reasoner.indexing.axiomIgnored]ELK does not support InverseObjectProperties. Axiom ignored:\n",
      "InverseObjectProperties(<http://purl.obolibrary.org/obo/BFO_0000050> <http://purl.obolibrary.org/obo/BFO_0000051>)\n"
     ]
    },
    {
     "name": "stdout",
     "output_type": "stream",
     "text": [
      "    70%\n",
      "    72%\n",
      "    73%\n",
      "    74%\n",
      "    76%\n",
      "    78%\n",
      "    81%\n",
      "    83%\n",
      "    85%\n",
      "    87%\n",
      "    90%\n",
      "    93%\n",
      "    96%\n",
      "    99%\n",
      "    ... finished\n",
      "    ... finished\n",
      "1637  [main] INFO  org.semanticweb.elk.reasoner.stages.LoggingStageExecutor  - Loading of Axioms took 760 ms\n",
      "1637  [main] INFO  org.semanticweb.elk.reasoner.stages.LoggingStageExecutor  - Property Saturation Initialization started\n",
      "1637  [main] INFO  org.semanticweb.elk.reasoner.stages.AbstractReasonerStage  - Property Saturation Initialization using 8 workers\n",
      "Property Saturation Initialization ...\n",
      "    ... finished\n",
      "1637  [main] INFO  org.semanticweb.elk.reasoner.stages.LoggingStageExecutor  - Property Saturation Initialization took 0 ms\n",
      "1637  [main] INFO  org.semanticweb.elk.reasoner.stages.LoggingStageExecutor  - Reflexive Property Computation started\n",
      "1643  [main] INFO  org.semanticweb.elk.reasoner.stages.AbstractReasonerStage  - Reflexive Property Computation using 8 workers\n",
      "Reflexive Property Computation ...\n",
      "    ... finished\n",
      "1647  [main] INFO  org.semanticweb.elk.reasoner.stages.LoggingStageExecutor  - Reflexive Property Computation took 9 ms\n",
      "1647  [main] INFO  org.semanticweb.elk.reasoner.stages.LoggingStageExecutor  - Object Property Hierarchy and Composition Computation started\n",
      "1649  [main] INFO  org.semanticweb.elk.reasoner.stages.AbstractReasonerStage  - Object Property Hierarchy and Composition Computation using 8 workers\n",
      "Object Property Hierarchy and Composition Computation ...\n",
      "    ... finished\n",
      "1652  [main] INFO  org.semanticweb.elk.reasoner.stages.LoggingStageExecutor  - Object Property Hierarchy and Composition Computation took 5 ms\n",
      "1652  [main] INFO  org.semanticweb.elk.reasoner.stages.LoggingStageExecutor  - Context Initialization started\n",
      "1653  [main] INFO  org.semanticweb.elk.reasoner.stages.AbstractReasonerStage  - Context Initialization using 8 workers\n",
      "Context Initialization ...\n",
      "    ... finished\n",
      "1654  [main] INFO  org.semanticweb.elk.reasoner.stages.LoggingStageExecutor  - Context Initialization took 1 ms\n",
      "1654  [main] INFO  org.semanticweb.elk.reasoner.stages.LoggingStageExecutor  - Consistency Checking started\n",
      "1657  [main] INFO  org.semanticweb.elk.reasoner.stages.AbstractReasonerStage  - Consistency Checking using 8 workers\n",
      "Consistency Checking ...\n",
      "    ... finished\n",
      "1663  [main] INFO  org.semanticweb.elk.reasoner.stages.LoggingStageExecutor  - Consistency Checking took 8 ms\n",
      "1663  [main] INFO  org.semanticweb.elk.reasoner.stages.LoggingStageExecutor  - Class Taxonomy Computation started\n",
      "1670  [main] INFO  org.semanticweb.elk.reasoner.stages.AbstractReasonerStage  - Class Taxonomy Computation using 8 workers\n",
      "Class Taxonomy Computation ...\n",
      "    ... finished\n",
      "1901  [main] INFO  org.semanticweb.elk.reasoner.stages.LoggingStageExecutor  - Class Taxonomy Computation took 238 ms\n"
     ]
    }
   ],
   "source": [
    "model.train()"
   ]
  },
  {
   "cell_type": "markdown",
   "id": "c22c95a5",
   "metadata": {},
   "source": [
    "Evaluate PPI prediction performance"
   ]
  },
  {
   "cell_type": "code",
   "execution_count": 15,
   "id": "116a4168",
   "metadata": {},
   "outputs": [
    {
     "name": "stdout",
     "output_type": "stream",
     "text": [
      "Mean rank: 1075.357719853431, Top 1: 195, Top 10: 1237, Top 100: 4503\n"
     ]
    }
   ],
   "source": [
    "mean_rank, rank_1, rank_10, rank_100 = model.evaluate_ppi()\n",
    "print(f'Mean rank: {mean_rank}, Top 1: {rank_1}, Top 10: {rank_10}, Top 100: {rank_100}')"
   ]
  }
 ],
 "metadata": {
  "kernelspec": {
   "display_name": "Python 3 (ipykernel)",
   "language": "python",
   "name": "python3"
  },
  "language_info": {
   "codemirror_mode": {
    "name": "ipython",
    "version": 3
   },
   "file_extension": ".py",
   "mimetype": "text/x-python",
   "name": "python",
   "nbconvert_exporter": "python",
   "pygments_lexer": "ipython3",
   "version": "3.9.0"
  }
 },
 "nbformat": 4,
 "nbformat_minor": 5
}
