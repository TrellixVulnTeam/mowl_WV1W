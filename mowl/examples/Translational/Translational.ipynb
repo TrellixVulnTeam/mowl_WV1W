{
 "cells": [
  {
   "cell_type": "markdown",
   "id": "d9645d80",
   "metadata": {},
   "source": [
    "# TransE"
   ]
  },
  {
   "cell_type": "markdown",
   "id": "906b5841",
   "metadata": {},
   "source": [
    "### Knowledge Graph\n",
    "\n",
    "Let $KG = (V, E, L; \\vdash)$ be a knowledge graph with a set of\n",
    "    vertices $V$, a set of edges $E \\subseteq V \\times V$, a label\n",
    "    function $L: V \\cup E \\mapsto Lab$ that assigns labels from a set\n",
    "    of labels $Lab$ to vertices and edges, and an inference relation\n",
    "    $\\vdash$.\n",
    "    \n",
    "**A knowledge graph embedding is a function** $f_\\eta : L(V) \\cup L(E) \\mapsto \\mathbb{R}^n$. That is, the function takes elements from the set $ L(V) \\cup L(E) \\subseteq Lab$ and gets elements in $\\mathbb{R}^n$, where $n$ is the _embedding size_."
   ]
  },
  {
   "cell_type": "markdown",
   "id": "b624fddb",
   "metadata": {},
   "source": [
    "### TransE idea\n",
    "TransE aims to model multirelational data by representing relationships as **translations** in the following way:\n",
    "\n",
    "Consider an edge is the graph of the form $(h, \\ell, t)$, where $h$ is the head of the edge, $\\ell$ is the type of relation and $t$ is the tail of the edge. Let's denote the corresponding embeddings as $\\boldsymbol{h}$, $\\boldsymbol{\\ell}$ and $\\boldsymbol{t}$. TransE learns the embeddings such that: \n",
    "$$\\boldsymbol{h} + \\boldsymbol{\\ell} \\approx \\boldsymbol{t}$$"
   ]
  },
  {
   "cell_type": "markdown",
   "id": "39811882",
   "metadata": {},
   "source": [
    "### Objective function\n",
    "TransE minimizes the following objective function: $$\n",
    "\\mathcal{L}=\\sum_{(h, \\ell, t) \\in S} \\sum_{\\left(h^{\\prime}, \\ell, t^{\\prime}\\right) \\in S_{(h, \\ell, t)}^{\\prime}}\\left[\\gamma+d(\\boldsymbol{h}+\\boldsymbol{\\ell}, \\boldsymbol{t})-d\\left(\\boldsymbol{h}^{\\prime}+\\boldsymbol{\\ell}, \\boldsymbol{t}^{\\prime}\\right)\\right]_{+}\n",
    "$$\n",
    "\n",
    "Where $d(\\boldsymbol{h}+\\boldsymbol{\\ell}, \\boldsymbol{t})$ is the _dissimilarity_ score of a positive edge. Furthermore, $d\\left(\\boldsymbol{h}^{\\prime}+\\boldsymbol{\\ell}, \\boldsymbol{t}^{\\prime}\\right)$ is the _dissimilarity_ score for a negative triple obtained by corrupting either the head or tail (but not both) of a positive triple. In this way, TransE favors lower scores for positive edges and big scores for negative edges. \n",
    "\n",
    "Regarding the parameter $\\gamma$, it is used to enforce that the score of a positive edge is different (lower) than the score of a negative edge by at least $\\gamma$."
   ]
  },
  {
   "cell_type": "code",
   "execution_count": null,
   "id": "53d1b3be",
   "metadata": {},
   "outputs": [],
   "source": []
  },
  {
   "cell_type": "code",
   "execution_count": 1,
   "id": "4ef97c06",
   "metadata": {},
   "outputs": [
    {
     "ename": "ModuleNotFoundError",
     "evalue": "No module named 'mowl.embeddings.graph_based.translational'",
     "output_type": "error",
     "traceback": [
      "\u001b[0;31m---------------------------------------------------------------------------\u001b[0m",
      "\u001b[0;31mModuleNotFoundError\u001b[0m                       Traceback (most recent call last)",
      "\u001b[0;32m/var/folders/ql/kb1nj68x0ms0cnstm9m4sd7myf9c6p/T/ipykernel_21366/3396277448.py\u001b[0m in \u001b[0;36m<module>\u001b[0;34m\u001b[0m\n\u001b[1;32m      7\u001b[0m \u001b[0;32mfrom\u001b[0m \u001b[0mmowl\u001b[0m\u001b[0;34m.\u001b[0m\u001b[0mdatasets\u001b[0m\u001b[0;34m.\u001b[0m\u001b[0mppi_yeast\u001b[0m \u001b[0;32mimport\u001b[0m \u001b[0mPPIYeastSlimDataset\u001b[0m\u001b[0;34m\u001b[0m\u001b[0;34m\u001b[0m\u001b[0m\n\u001b[1;32m      8\u001b[0m \u001b[0;34m\u001b[0m\u001b[0m\n\u001b[0;32m----> 9\u001b[0;31m \u001b[0;32mfrom\u001b[0m \u001b[0mmowl\u001b[0m\u001b[0;34m.\u001b[0m\u001b[0membeddings\u001b[0m\u001b[0;34m.\u001b[0m\u001b[0mgraph_based\u001b[0m\u001b[0;34m.\u001b[0m\u001b[0mtranslational\u001b[0m\u001b[0;34m.\u001b[0m\u001b[0mmodel\u001b[0m \u001b[0;32mimport\u001b[0m \u001b[0mTranslationalOnt\u001b[0m\u001b[0;34m\u001b[0m\u001b[0;34m\u001b[0m\u001b[0m\n\u001b[0m",
      "\u001b[0;31mModuleNotFoundError\u001b[0m: No module named 'mowl.embeddings.graph_based.translational'"
     ]
    }
   ],
   "source": [
    "import sys\n",
    "sys.path.append(\"../../../\")\n",
    "\n",
    "import torch as th\n",
    "import logging\n",
    "\n",
    "from mowl.datasets.ppi_yeast import PPIYeastSlimDataset\n",
    "\n",
    "from mowl.embeddings.graph_based.translational.model import TranslationalOnt"
   ]
  },
  {
   "cell_type": "code",
   "execution_count": 4,
   "id": "e98e2017",
   "metadata": {},
   "outputs": [],
   "source": [
    "def main():\n",
    "    dataset = PPIYeastSlimDataset()\n",
    "    \n",
    "    model = OntTransE(dataset, parsing_method = \"taxonomy_rels\")\n",
    "    \n",
    "    model.train()\n",
    "    model.evaluate()"
   ]
  },
  {
   "cell_type": "code",
   "execution_count": 6,
   "id": "a503fac1",
   "metadata": {},
   "outputs": [
    {
     "name": "stdout",
     "output_type": "stream",
     "text": [
      "INFO: Number of ontology classes: 11020\n",
      "INFO: Number of ontology classes: 3610\n"
     ]
    },
    {
     "name": "stderr",
     "output_type": "stream",
     "text": [
      "DEBUG:root:Traininig entities: 11020, relations 9. Testing entities: 3610, relations 1.\n",
      "DEBUG:root:LEN OF TRAIN TRIPLES: 249064\n",
      "WARNING:pykeen.models.base:No random seed is specified. This may lead to non-reproducible results.\n"
     ]
    },
    {
     "data": {
      "application/vnd.jupyter.widget-view+json": {
       "model_id": "c6305883ba40481ba6e57474130fc672",
       "version_major": 2,
       "version_minor": 0
      },
      "text/plain": [
       "Training epochs on cuda:   0%|          | 0/5 [00:00<?, ?epoch/s]"
      ]
     },
     "metadata": {},
     "output_type": "display_data"
    },
    {
     "data": {
      "application/vnd.jupyter.widget-view+json": {
       "model_id": "d539da97b8a3480395f51dadb1db4b4c",
       "version_major": 2,
       "version_minor": 0
      },
      "text/plain": [
       "Training batches on cuda:   0%|          | 0/7784 [00:00<?, ?batch/s]"
      ]
     },
     "metadata": {},
     "output_type": "display_data"
    },
    {
     "data": {
      "application/vnd.jupyter.widget-view+json": {
       "model_id": "e161ab87b53e4f4ea5c6e752ebd3415b",
       "version_major": 2,
       "version_minor": 0
      },
      "text/plain": [
       "Training batches on cuda:   0%|          | 0/7784 [00:00<?, ?batch/s]"
      ]
     },
     "metadata": {},
     "output_type": "display_data"
    },
    {
     "data": {
      "application/vnd.jupyter.widget-view+json": {
       "model_id": "ec062944bb4e42d9a9ac4523e2f1469e",
       "version_major": 2,
       "version_minor": 0
      },
      "text/plain": [
       "Training batches on cuda:   0%|          | 0/7784 [00:00<?, ?batch/s]"
      ]
     },
     "metadata": {},
     "output_type": "display_data"
    },
    {
     "data": {
      "application/vnd.jupyter.widget-view+json": {
       "model_id": "017fafd8abba4ce1803c34360a414314",
       "version_major": 2,
       "version_minor": 0
      },
      "text/plain": [
       "Training batches on cuda:   0%|          | 0/7784 [00:00<?, ?batch/s]"
      ]
     },
     "metadata": {},
     "output_type": "display_data"
    },
    {
     "data": {
      "application/vnd.jupyter.widget-view+json": {
       "model_id": "4c81ca14672a4e5894f283d641b24982",
       "version_major": 2,
       "version_minor": 0
      },
      "text/plain": [
       "Training batches on cuda:   0%|          | 0/7784 [00:00<?, ?batch/s]"
      ]
     },
     "metadata": {},
     "output_type": "display_data"
    },
    {
     "name": "stdout",
     "output_type": "stream",
     "text": [
      "INFO: Number of ontology classes: 3610\n"
     ]
    },
    {
     "name": "stderr",
     "output_type": "stream",
     "text": [
      "DEBUG:root:LEN OF TEST TRIPLES: 12040\n",
      "WARNING:pykeen.evaluation.evaluator:The filtered setting was enabled, but there were no `additional_filter_triples`\n",
      "given. This means you probably forgot to pass (at least) the training triples. Try:\n",
      "\n",
      "    additional_filter_triples=[dataset.training.mapped_triples]\n",
      "\n",
      "Or if you want to use the Bordes et al. (2013) approach to filtering, do:\n",
      "\n",
      "    additional_filter_triples=[\n",
      "        dataset.training.mapped_triples,\n",
      "        dataset.validation.mapped_triples,\n",
      "    ]\n",
      "\n"
     ]
    },
    {
     "data": {
      "application/vnd.jupyter.widget-view+json": {
       "model_id": "2fd902183d1c487892bfbf427b04f83e",
       "version_major": 2,
       "version_minor": 0
      },
      "text/plain": [
       "Evaluating on cuda:   0%|          | 0.00/12.0k [00:00<?, ?triple/s]"
      ]
     },
     "metadata": {},
     "output_type": "display_data"
    },
    {
     "name": "stderr",
     "output_type": "stream",
     "text": [
      "INFO:pykeen.evaluation.evaluator:Evaluation took 1.17s seconds\n"
     ]
    },
    {
     "name": "stdout",
     "output_type": "stream",
     "text": [
      "RankBasedMetricResults(arithmetic_mean_rank={'tail': {'realistic': 275.99547342192693, 'optimistic': 275.9953488372093, 'pessimistic': 275.9955980066445}, 'head': {'realistic': 279.6311877076412, 'optimistic': 279.6310631229236, 'pessimistic': 279.6313122923588}, 'both': {'realistic': 277.81333056478405, 'optimistic': 277.81320598006647, 'pessimistic': 277.81345514950164}}, geometric_mean_rank={'tail': {'realistic': 79.81777770898599, 'optimistic': 79.81777163382525, 'pessimistic': 79.81778378155316}, 'head': {'realistic': 78.97132022208281, 'optimistic': 78.97118571502506, 'pessimistic': 78.97145220471425}, 'both': {'realistic': 79.39342090419937, 'optimistic': 79.39335026974412, 'pessimistic': 79.39349026835346}}, median_rank={'tail': {'realistic': 84.0, 'optimistic': 84.0, 'pessimistic': 84.0}, 'head': {'realistic': 86.0, 'optimistic': 86.0, 'pessimistic': 86.0}, 'both': {'realistic': 85.0, 'optimistic': 85.0, 'pessimistic': 85.0}}, harmonic_mean_rank={'tail': {'realistic': 27.35001823043262, 'optimistic': 27.35001818178707, 'pessimistic': 27.35001827902987}, 'head': {'realistic': 26.848791687787127, 'optimistic': 26.848744685439012, 'pessimistic': 26.84883688415201}, 'both': {'realistic': 27.09708730631057, 'optimistic': 27.097063344556684, 'pessimistic': 27.097110348230427}}, inverse_arithmetic_mean_rank={'tail': {'realistic': 0.003623247829399195, 'optimistic': 0.003623249464938742, 'pessimistic': 0.0036232461938611256}, 'head': {'realistic': 0.0035761390143846036, 'optimistic': 0.003576140607670643, 'pessimistic': 0.003576137421099983}, 'both': {'realistic': 0.0035995392948460665, 'optimistic': 0.0035995409090515, 'pessimistic': 0.003599537680642081}}, inverse_geometric_mean_rank={'tail': {'realistic': 0.012528537234474004, 'optimistic': 0.012528538188057096, 'pessimistic': 0.012528536281298153}, 'head': {'realistic': 0.012662824898808888, 'optimistic': 0.012662846466666893, 'pessimistic': 0.012662803735807512}, 'both': {'realistic': 0.012595502103463422, 'optimistic': 0.012595513309394733, 'pessimistic': 0.012595491099080747}}, inverse_harmonic_mean_rank={'tail': {'realistic': 0.03656304692650225, 'optimistic': 0.03656304699153436, 'pessimistic': 0.036563046861534707}, 'head': {'realistic': 0.037245623997852986, 'optimistic': 0.03724568920134035, 'pessimistic': 0.03724556129991118}, 'both': {'realistic': 0.03690433546217761, 'optimistic': 0.036904368096437365, 'pessimistic': 0.03690430408072294}}, inverse_median_rank={'tail': {'realistic': 0.011904761904761904, 'optimistic': 0.011904761904761904, 'pessimistic': 0.011904761904761904}, 'head': {'realistic': 0.011627906976744186, 'optimistic': 0.011627906976744186, 'pessimistic': 0.011627906976744186}, 'both': {'realistic': 0.011764705882352941, 'optimistic': 0.011764705882352941, 'pessimistic': 0.011764705882352941}}, rank_std={'tail': {'realistic': 795.6665044712412, 'optimistic': 795.6661213866986, 'pessimistic': 795.666887633869}, 'head': {'realistic': 819.0457975747358, 'optimistic': 819.0455598853905, 'pessimistic': 819.0460353400481}, 'both': {'realistic': 807.4428196694495, 'optimistic': 807.4425103682952, 'pessimistic': 807.4431290476138}}, rank_var={'tail': {'realistic': 633085.1863374836, 'optimistic': 633084.5767225527, 'pessimistic': 633085.796076968}, 'head': {'realistic': 670836.0185248352, 'optimistic': 670835.6291679727, 'pessimistic': 670836.4080062513}, 'both': {'realistic': 651963.9070357512, 'optimistic': 651963.4075498545, 'pessimistic': 651964.4066462015}}, rank_mad={'tail': {'realistic': 67.0, 'optimistic': 67.0, 'pessimistic': 67.0}, 'head': {'realistic': 67.0, 'optimistic': 67.0, 'pessimistic': 67.0}, 'both': {'realistic': 67.0, 'optimistic': 67.0, 'pessimistic': 67.0}}, hits_at_k={'tail': {'realistic': {1: 0.0, 3: 0.021345514950166112, 5: 0.04028239202657807, 10: 0.09277408637873755}, 'optimistic': {1: 0.0, 3: 0.021345514950166112, 5: 0.04028239202657807, 10: 0.09277408637873755}, 'pessimistic': {1: 0.0, 3: 0.021345514950166112, 5: 0.04028239202657807, 10: 0.09277408637873755}}, 'head': {'realistic': {1: 0.0, 3: 0.021760797342192693, 5: 0.04119601328903655, 10: 0.09642857142857143}, 'optimistic': {1: 0.0, 3: 0.021760797342192693, 5: 0.04119601328903655, 10: 0.09642857142857143}, 'pessimistic': {1: 0.0, 3: 0.021760797342192693, 5: 0.04119601328903655, 10: 0.09642857142857143}}, 'both': {'realistic': {1: 0.0, 3: 0.021553156146179402, 5: 0.04073920265780731, 10: 0.09460132890365448}, 'optimistic': {1: 0.0, 3: 0.021553156146179402, 5: 0.04073920265780731, 10: 0.09460132890365448}, 'pessimistic': {1: 0.0, 3: 0.021553156146179402, 5: 0.04073920265780731, 10: 0.09460132890365448}}}, adjusted_arithmetic_mean_rank={'tail': {'realistic': 0.05010908613189327}, 'head': {'realistic': 0.05076917782845272}, 'both': {'realistic': 0.050439131980172996}}, adjusted_arithmetic_mean_rank_index={'tail': {'realistic': 0.9500634051354758}, 'head': {'realistic': 0.9494031935724647}, 'both': {'realistic': 0.9497332993539703}})\n"
     ]
    }
   ],
   "source": [
    "main()"
   ]
  },
  {
   "cell_type": "code",
   "execution_count": null,
   "id": "fc80bfaa",
   "metadata": {},
   "outputs": [],
   "source": []
  },
  {
   "cell_type": "code",
   "execution_count": null,
   "id": "83998e8d",
   "metadata": {},
   "outputs": [],
   "source": []
  },
  {
   "cell_type": "code",
   "execution_count": null,
   "id": "a6d97df7",
   "metadata": {},
   "outputs": [],
   "source": []
  }
 ],
 "metadata": {
  "kernelspec": {
   "display_name": "mowl",
   "language": "python",
   "name": "mowl"
  },
  "language_info": {
   "codemirror_mode": {
    "name": "ipython",
    "version": 3
   },
   "file_extension": ".py",
   "mimetype": "text/x-python",
   "name": "python",
   "nbconvert_exporter": "python",
   "pygments_lexer": "ipython3",
   "version": "3.9.7"
  }
 },
 "nbformat": 4,
 "nbformat_minor": 5
}
