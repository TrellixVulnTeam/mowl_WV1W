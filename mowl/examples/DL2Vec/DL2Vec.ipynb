{
 "cells": [
  {
   "cell_type": "markdown",
   "id": "951163e3",
   "metadata": {},
   "source": [
    "# DL2Vec"
   ]
  },
  {
   "cell_type": "code",
   "execution_count": null,
   "id": "5b20b44d",
   "metadata": {},
   "outputs": [],
   "source": [
    "import sys\n",
    "sys.path.append(\"../../../\")\n",
    "\n",
    "import torch as th\n",
    "#import logging\n",
    "\n",
    "\n",
    "import pickle as pkl\n",
    "import numpy as np\n",
    "from sklearn.manifold import TSNE\n",
    "import matplotlib.pyplot as plt\n",
    "import logging\n",
    "\n",
    "logging.basicConfig(level=logging.INFO)"
   ]
  },
  {
   "cell_type": "code",
   "execution_count": null,
   "id": "a5af52b9",
   "metadata": {},
   "outputs": [],
   "source": [
    "import mowl\n",
    "mowl.init_jvm(\"10g\")\n",
    "from mowl.datasets.ppi_yeast import PPIYeastSlimDataset\n",
    "from mowl.model import EmbeddingModel\n",
    "from mowl.projection.dl2vec.model import DL2VecProjector\n",
    "from mowl.projection.factory import projector_factory\n",
    "from mowl.walking.factory import walking_factory\n",
    "import mowl.evaluation.base as ev\n",
    "from gensim.models import Word2Vec\n",
    "from gensim.models.word2vec import LineSentence\n"
   ]
  },
  {
   "cell_type": "markdown",
   "id": "5d8180bc",
   "metadata": {},
   "source": [
    "## DL2Vec"
   ]
  },
  {
   "cell_type": "code",
   "execution_count": null,
   "id": "8d033b0a",
   "metadata": {},
   "outputs": [],
   "source": [
    "dataset = PPIYeastSlimDataset()\n",
    "projector = projector_factory(\"dl2vec\", bidirectional_taxonomy = True)\n",
    "edges = projector.project(dataset.ontology)\n",
    "\n",
    "walker = walking_factory(\n",
    "        \"node2vec\", \n",
    "        alpha = 0.1, \n",
    "        walk_length = 20, \n",
    "        num_walks = 10, \n",
    "        outfile = \"data/walks\")\n",
    "walker.walk(edges)\n",
    "\n",
    "corpus = LineSentence(\"data/walks\")\n",
    "\n",
    "w2v_model = Word2Vec(\n",
    "        corpus,\n",
    "        sg=1,\n",
    "        min_count=1,\n",
    "        vector_size=10,\n",
    "        window = 5,\n",
    "        epochs = 2,\n",
    "        workers = 16)\n",
    "\n",
    "\n",
    "vectors = w2v_model.wv\n",
    "\n",
    "w2v_model.save('data/dl2vec') "
   ]
  },
  {
   "cell_type": "code",
   "execution_count": null,
   "id": "cbca181d",
   "metadata": {},
   "outputs": [],
   "source": []
  },
  {
   "cell_type": "code",
   "execution_count": null,
   "id": "4cede6ef",
   "metadata": {},
   "outputs": [],
   "source": [
    "\n",
    "#model.train()"
   ]
  },
  {
   "cell_type": "markdown",
   "id": "86402dc4",
   "metadata": {},
   "source": [
    "## Evaluation"
   ]
  },
  {
   "cell_type": "code",
   "execution_count": null,
   "id": "9b3dcf5c",
   "metadata": {},
   "outputs": [],
   "source": [
    "from mowl.projection.edge import Edge\n",
    "dataset = PPIYeastSlimDataset()\n",
    "vectors = Word2Vec.load(\"data/dl2vec\").wv\n",
    "\n",
    "eval_projector = projector_factory('taxonomy_rels', taxonomy=False, relations=[\"http://interacts_with\"])\n",
    "\n",
    "training_set = eval_projector.project(dataset.ontology)\n",
    "testing_set = eval_projector.project(dataset.testing)\n",
    "\n",
    "training_entities,_ = Edge.getEntitiesAndRelations(training_set)\n",
    "testing_entities,_ = Edge.getEntitiesAndRelations(testing_set)\n",
    "\n",
    "entities = list(set(training_entities) | set(testing_entities))\n"
   ]
  },
  {
   "cell_type": "code",
   "execution_count": null,
   "id": "aae52a33",
   "metadata": {},
   "outputs": [],
   "source": [
    "from mowl.evaluation.rank_based import EmbeddingsRankBasedEvaluator\n",
    "from mowl.evaluation.base import CosineSimilarity\n",
    "evaluator = EmbeddingsRankBasedEvaluator(\n",
    "        vectors, \n",
    "        testing_set, \n",
    "        CosineSimilarity, \n",
    "        training_set = training_set, \n",
    "        head_entities = entities,\n",
    "        device = \"cuda\"\n",
    ")\n",
    "\n",
    "evaluator.evaluate(show=True)"
   ]
  },
  {
   "cell_type": "code",
   "execution_count": null,
   "id": "33a883e5",
   "metadata": {},
   "outputs": [],
   "source": [
    "from mowl.embeddings.graph_based.dl2vec.model import DL2Vec\n",
    "dataset = PPIYeastSlimDataset()\n",
    "\n",
    "\n",
    "\n",
    "model = DL2Vec(dataset, \n",
    "               \"data/dl2vectoolkit\", \n",
    "               bidirectional_taxonomy = True,\n",
    "                alpha = 0.1, \n",
    "            walk_length = 20, \n",
    "            num_walks = 10, \n",
    "\n",
    "               workers = 16, \n",
    "               wv_epochs=2,\n",
    "                vector_size=10,\n",
    "        window = 5,\n",
    "               device = \"cuda\"\n",
    "              )\n",
    "model.train()"
   ]
  },
  {
   "cell_type": "code",
   "execution_count": null,
   "id": "aa3851bc",
   "metadata": {},
   "outputs": [],
   "source": [
    "from mowl.evaluation.rank_based import ModelRankBasedEvaluator\n",
    "from mowl.evaluation.base import  CosineSimilarity"
   ]
  },
  {
   "cell_type": "code",
   "execution_count": null,
   "id": "0051d733",
   "metadata": {},
   "outputs": [],
   "source": [
    "evaluator = ModelRankBasedEvaluator(model, device = \"cuda\" )"
   ]
  },
  {
   "cell_type": "code",
   "execution_count": null,
   "id": "55bcf52b",
   "metadata": {},
   "outputs": [],
   "source": [
    "evaluator.evaluate()"
   ]
  },
  {
   "cell_type": "code",
   "execution_count": null,
   "id": "96a80107",
   "metadata": {},
   "outputs": [],
   "source": [
    "evaluator.metrics"
   ]
  },
  {
   "cell_type": "code",
   "execution_count": null,
   "id": "350573d0",
   "metadata": {},
   "outputs": [],
   "source": [
    "Hits@1:   0.00 Filtered:   0.01\n",
    "Hits@10:  0.02 Filtered:   0.10\n",
    "Hits@100: 0.23 Filtered:   0.37\n",
    "MR:       909.21 Filtered: 853.36\n",
    "AUC:      0.85 Filtered:   0.86\n",
    "Evaluation finished. Access the results using the \"metrics\" attribute."
   ]
  },
  {
   "cell_type": "code",
   "execution_count": null,
   "id": "8bbdacf8",
   "metadata": {},
   "outputs": [],
   "source": [
    "evaluator.metrics"
   ]
  },
  {
   "cell_type": "markdown",
   "id": "1a25d561",
   "metadata": {},
   "source": [
    "## TSNE"
   ]
  },
  {
   "cell_type": "code",
   "execution_count": null,
   "id": "72cc46a2",
   "metadata": {},
   "outputs": [],
   "source": [
    "ec_numbers = {}\n",
    "with open('data/yeast_ec.tab') as f:\n",
    "    next(f)\n",
    "    for line in f:\n",
    "        it = line.strip().split('\\t', -1)\n",
    "        if len(it) < 5:\n",
    "            continue\n",
    "        if it[3]:\n",
    "            prot_id = it[3].split(';')[0]\n",
    "            prot_id = '{0}'.format(prot_id)\n",
    "            ec_numbers[f\"http://{prot_id}\"] = it[4].split(\".\")[0]"
   ]
  },
  {
   "cell_type": "code",
   "execution_count": null,
   "id": "321dec5d",
   "metadata": {},
   "outputs": [],
   "source": [
    "from mowl.visualization.base import TSNE as MTSNE\n",
    "\n",
    "tsne = MTSNE(vectors, ec_numbers, entities = entities)\n",
    "tsne.generate_points(5000, workers = 16, verbose = 1)\n"
   ]
  },
  {
   "cell_type": "code",
   "execution_count": null,
   "id": "18ccf820",
   "metadata": {},
   "outputs": [],
   "source": [
    "tsne.show()"
   ]
  },
  {
   "cell_type": "code",
   "execution_count": null,
   "id": "da29ca7c",
   "metadata": {},
   "outputs": [],
   "source": [
    "\n",
    "tsne.savefig('data/mowl_tsne.jpg')"
   ]
  }
 ],
 "metadata": {
  "kernelspec": {
   "display_name": "mowldev",
   "language": "python",
   "name": "mowldev"
  },
  "language_info": {
   "codemirror_mode": {
    "name": "ipython",
    "version": 3
   },
   "file_extension": ".py",
   "mimetype": "text/x-python",
   "name": "python",
   "nbconvert_exporter": "python",
   "pygments_lexer": "ipython3",
   "version": "3.9.10"
  }
 },
 "nbformat": 4,
 "nbformat_minor": 5
}
