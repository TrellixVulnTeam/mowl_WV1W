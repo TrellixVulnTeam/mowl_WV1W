{
 "cells": [
  {
   "cell_type": "markdown",
   "id": "bd2cddcf",
   "metadata": {},
   "source": [
    "# DL2Vec"
   ]
  },
  {
   "cell_type": "code",
   "execution_count": 1,
   "id": "e70e8338",
   "metadata": {},
   "outputs": [],
   "source": [
    "import sys\n",
    "sys.path.append(\"../../../\")\n",
    "\n",
    "import torch as th\n",
    "import logging\n",
    "\n",
    "from mowl.datasets.ppi_yeast import PPIYeastSlimDataset\n",
    "\n",
    "from mowl.embeddings.graph_based.dl2vec.model import DL2Vec\n",
    "\n",
    "logging.basicConfig(level=logging.DEBUG)"
   ]
  },
  {
   "cell_type": "code",
   "execution_count": 5,
   "id": "bb7072d3",
   "metadata": {},
   "outputs": [],
   "source": [
    "def main():\n",
    "    dataset = PPIYeastSlimDataset()\n",
    "    \n",
    "    model = DL2Vec(\n",
    "        dataset, \n",
    "        \"model_out\", \n",
    "        bidirectional_taxonomy=True,\n",
    "        walking_method = \"node2vec\",\n",
    "        walk_length=5, \n",
    "        num_walks=3, \n",
    "        alpha=0,\n",
    "        window=5,\n",
    "        num_procs = 16\n",
    "    )\n",
    "    \n",
    "    model.train()"
   ]
  },
  {
   "cell_type": "code",
   "execution_count": 6,
   "id": "47d212b0",
   "metadata": {},
   "outputs": [
    {
     "name": "stderr",
     "output_type": "stream",
     "text": [
      "INFO:root:Generating graph from ontology...\n"
     ]
    },
    {
     "name": "stdout",
     "output_type": "stream",
     "text": [
      "INFO: Number of ontology classes: 11020\n"
     ]
    },
    {
     "name": "stderr",
     "output_type": "stream",
     "text": [
      "INFO:root:Finished graph generation\n",
      "INFO:root:Generating random walks...\n",
      "INFO:root:Preprocessing transition probs...\n",
      "INFO:root:Finished preprocessing\n",
      "INFO:root:Walks generated\n",
      "INFO:root:Starting to train the Word2Vec model\n",
      "INFO:gensim.models.word2vec:collecting all words and their counts\n",
      "INFO:gensim.models.word2vec:PROGRESS: at sentence #0, processed 0 words, keeping 0 word types\n",
      "INFO:gensim.models.word2vec:PROGRESS: at sentence #10000, processed 28718 words, keeping 10549 word types\n",
      "INFO:gensim.models.word2vec:PROGRESS: at sentence #20000, processed 57408 words, keeping 11020 word types\n",
      "INFO:gensim.models.word2vec:PROGRESS: at sentence #30000, processed 85968 words, keeping 11020 word types\n",
      "INFO:gensim.models.word2vec:collected 11020 word types from a corpus of 94817 raw words and 33060 sentences\n",
      "INFO:gensim.models.word2vec:Creating a fresh vocabulary\n",
      "INFO:gensim.utils:Word2Vec lifecycle event {'msg': 'effective_min_count=1 retains 11020 unique words (100.0%% of original 11020, drops 0)', 'datetime': '2021-12-22T15:40:54.554296', 'gensim': '4.1.2', 'python': '3.9.7 | packaged by conda-forge | (default, Sep 29 2021, 19:20:46) \\n[GCC 9.4.0]', 'platform': 'Linux-5.4.0-91-generic-x86_64-with-glibc2.27', 'event': 'prepare_vocab'}\n",
      "INFO:gensim.utils:Word2Vec lifecycle event {'msg': 'effective_min_count=1 leaves 94817 word corpus (100.0%% of original 94817, drops 0)', 'datetime': '2021-12-22T15:40:54.555240', 'gensim': '4.1.2', 'python': '3.9.7 | packaged by conda-forge | (default, Sep 29 2021, 19:20:46) \\n[GCC 9.4.0]', 'platform': 'Linux-5.4.0-91-generic-x86_64-with-glibc2.27', 'event': 'prepare_vocab'}\n",
      "INFO:gensim.models.word2vec:deleting the raw counts dictionary of 11020 items\n",
      "INFO:gensim.models.word2vec:sample=0.001 downsamples 10 most-common words\n",
      "INFO:gensim.utils:Word2Vec lifecycle event {'msg': 'downsampling leaves estimated 91241.20898497879 word corpus (96.2%% of prior 94817)', 'datetime': '2021-12-22T15:40:54.595885', 'gensim': '4.1.2', 'python': '3.9.7 | packaged by conda-forge | (default, Sep 29 2021, 19:20:46) \\n[GCC 9.4.0]', 'platform': 'Linux-5.4.0-91-generic-x86_64-with-glibc2.27', 'event': 'prepare_vocab'}\n",
      "INFO:gensim.models.word2vec:estimated required memory for 11020 words and 100 dimensions: 14326000 bytes\n",
      "INFO:gensim.models.word2vec:resetting layer weights\n",
      "INFO:gensim.utils:Word2Vec lifecycle event {'update': False, 'trim_rule': 'None', 'datetime': '2021-12-22T15:40:54.681694', 'gensim': '4.1.2', 'python': '3.9.7 | packaged by conda-forge | (default, Sep 29 2021, 19:20:46) \\n[GCC 9.4.0]', 'platform': 'Linux-5.4.0-91-generic-x86_64-with-glibc2.27', 'event': 'build_vocab'}\n",
      "INFO:gensim.utils:Word2Vec lifecycle event {'msg': 'training model with 16 workers on 11020 vocabulary and 100 features, using sg=1 hs=0 sample=0.001 negative=5 window=5 shrink_windows=True', 'datetime': '2021-12-22T15:40:54.682168', 'gensim': '4.1.2', 'python': '3.9.7 | packaged by conda-forge | (default, Sep 29 2021, 19:20:46) \\n[GCC 9.4.0]', 'platform': 'Linux-5.4.0-91-generic-x86_64-with-glibc2.27', 'event': 'train'}\n",
      "INFO:gensim.models.word2vec:worker thread finished; awaiting finish of 15 more threads\n",
      "INFO:gensim.models.word2vec:worker thread finished; awaiting finish of 14 more threads\n",
      "INFO:gensim.models.word2vec:worker thread finished; awaiting finish of 13 more threads\n",
      "INFO:gensim.models.word2vec:worker thread finished; awaiting finish of 12 more threads\n",
      "INFO:gensim.models.word2vec:worker thread finished; awaiting finish of 11 more threads\n",
      "INFO:gensim.models.word2vec:worker thread finished; awaiting finish of 10 more threads\n",
      "INFO:gensim.models.word2vec:worker thread finished; awaiting finish of 9 more threads\n",
      "INFO:gensim.models.word2vec:worker thread finished; awaiting finish of 8 more threads\n",
      "INFO:gensim.models.word2vec:worker thread finished; awaiting finish of 7 more threads\n",
      "INFO:gensim.models.word2vec:worker thread finished; awaiting finish of 6 more threads\n",
      "INFO:gensim.models.word2vec:worker thread finished; awaiting finish of 5 more threads\n",
      "INFO:gensim.models.word2vec:worker thread finished; awaiting finish of 4 more threads\n",
      "INFO:gensim.models.word2vec:worker thread finished; awaiting finish of 3 more threads\n",
      "INFO:gensim.models.word2vec:worker thread finished; awaiting finish of 2 more threads\n",
      "INFO:gensim.models.word2vec:worker thread finished; awaiting finish of 1 more threads\n",
      "INFO:gensim.models.word2vec:worker thread finished; awaiting finish of 0 more threads\n",
      "INFO:gensim.models.word2vec:EPOCH - 1 : training on 94817 raw words (91191 effective words) took 0.2s, 556506 effective words/s\n",
      "INFO:gensim.models.word2vec:worker thread finished; awaiting finish of 15 more threads\n",
      "INFO:gensim.models.word2vec:worker thread finished; awaiting finish of 14 more threads\n",
      "INFO:gensim.models.word2vec:worker thread finished; awaiting finish of 13 more threads\n",
      "INFO:gensim.models.word2vec:worker thread finished; awaiting finish of 12 more threads\n",
      "INFO:gensim.models.word2vec:worker thread finished; awaiting finish of 11 more threads\n",
      "INFO:gensim.models.word2vec:worker thread finished; awaiting finish of 10 more threads\n",
      "INFO:gensim.models.word2vec:worker thread finished; awaiting finish of 9 more threads\n",
      "INFO:gensim.models.word2vec:worker thread finished; awaiting finish of 8 more threads\n",
      "INFO:gensim.models.word2vec:worker thread finished; awaiting finish of 7 more threads\n",
      "INFO:gensim.models.word2vec:worker thread finished; awaiting finish of 6 more threads\n",
      "INFO:gensim.models.word2vec:worker thread finished; awaiting finish of 5 more threads\n",
      "INFO:gensim.models.word2vec:worker thread finished; awaiting finish of 4 more threads\n",
      "INFO:gensim.models.word2vec:worker thread finished; awaiting finish of 3 more threads\n",
      "INFO:gensim.models.word2vec:worker thread finished; awaiting finish of 2 more threads\n",
      "INFO:gensim.models.word2vec:worker thread finished; awaiting finish of 1 more threads\n",
      "INFO:gensim.models.word2vec:worker thread finished; awaiting finish of 0 more threads\n",
      "INFO:gensim.models.word2vec:EPOCH - 2 : training on 94817 raw words (91213 effective words) took 0.2s, 493689 effective words/s\n",
      "INFO:gensim.models.word2vec:worker thread finished; awaiting finish of 15 more threads\n",
      "INFO:gensim.models.word2vec:worker thread finished; awaiting finish of 14 more threads\n",
      "INFO:gensim.models.word2vec:worker thread finished; awaiting finish of 13 more threads\n",
      "INFO:gensim.models.word2vec:worker thread finished; awaiting finish of 12 more threads\n",
      "INFO:gensim.models.word2vec:worker thread finished; awaiting finish of 11 more threads\n",
      "INFO:gensim.models.word2vec:worker thread finished; awaiting finish of 10 more threads\n",
      "INFO:gensim.models.word2vec:worker thread finished; awaiting finish of 9 more threads\n",
      "INFO:gensim.models.word2vec:worker thread finished; awaiting finish of 8 more threads\n",
      "INFO:gensim.models.word2vec:worker thread finished; awaiting finish of 7 more threads\n",
      "INFO:gensim.models.word2vec:worker thread finished; awaiting finish of 6 more threads\n",
      "INFO:gensim.models.word2vec:worker thread finished; awaiting finish of 5 more threads\n",
      "INFO:gensim.models.word2vec:worker thread finished; awaiting finish of 4 more threads\n",
      "INFO:gensim.models.word2vec:worker thread finished; awaiting finish of 3 more threads\n",
      "INFO:gensim.models.word2vec:worker thread finished; awaiting finish of 2 more threads\n",
      "INFO:gensim.models.word2vec:worker thread finished; awaiting finish of 1 more threads\n",
      "INFO:gensim.models.word2vec:worker thread finished; awaiting finish of 0 more threads\n",
      "INFO:gensim.models.word2vec:EPOCH - 3 : training on 94817 raw words (91308 effective words) took 0.2s, 540353 effective words/s\n",
      "INFO:gensim.utils:Word2Vec lifecycle event {'msg': 'training on 284451 raw words (273712 effective words) took 0.5s, 513376 effective words/s', 'datetime': '2021-12-22T15:40:55.215650', 'gensim': '4.1.2', 'python': '3.9.7 | packaged by conda-forge | (default, Sep 29 2021, 19:20:46) \\n[GCC 9.4.0]', 'platform': 'Linux-5.4.0-91-generic-x86_64-with-glibc2.27', 'event': 'train'}\n",
      "INFO:gensim.utils:Word2Vec lifecycle event {'params': 'Word2Vec(vocab=11020, vector_size=100, alpha=0.025)', 'datetime': '2021-12-22T15:40:55.216105', 'gensim': '4.1.2', 'python': '3.9.7 | packaged by conda-forge | (default, Sep 29 2021, 19:20:46) \\n[GCC 9.4.0]', 'platform': 'Linux-5.4.0-91-generic-x86_64-with-glibc2.27', 'event': 'created'}\n"
     ]
    },
    {
     "name": "stderr",
     "output_type": "stream",
     "text": [
      "INFO:root:Word2Vec training finished\n",
      "INFO:root:Saving model at model_out\n",
      "INFO:gensim.utils:Word2Vec lifecycle event {'fname_or_handle': 'model_out', 'separately': 'None', 'sep_limit': 10485760, 'ignore': frozenset(), 'datetime': '2021-12-22T15:40:55.217771', 'gensim': '4.1.2', 'python': '3.9.7 | packaged by conda-forge | (default, Sep 29 2021, 19:20:46) \\n[GCC 9.4.0]', 'platform': 'Linux-5.4.0-91-generic-x86_64-with-glibc2.27', 'event': 'saving'}\n",
      "INFO:gensim.utils:not storing attribute cum_table\n",
      "INFO:gensim.utils:saved model_out\n",
      "INFO:root:Model saved\n"
     ]
    }
   ],
   "source": [
    "main()"
   ]
  },
  {
   "cell_type": "code",
   "execution_count": null,
   "id": "e0746f51",
   "metadata": {},
   "outputs": [],
   "source": []
  },
  {
   "cell_type": "code",
   "execution_count": null,
   "id": "5fde5847",
   "metadata": {},
   "outputs": [],
   "source": []
  },
  {
   "cell_type": "code",
   "execution_count": null,
   "id": "9ed7e158",
   "metadata": {},
   "outputs": [],
   "source": []
  },
  {
   "cell_type": "code",
   "execution_count": null,
   "id": "3a8db956",
   "metadata": {},
   "outputs": [],
   "source": []
  },
  {
   "cell_type": "code",
   "execution_count": null,
   "id": "67b5f7de",
   "metadata": {},
   "outputs": [],
   "source": []
  }
 ],
 "metadata": {
  "kernelspec": {
   "display_name": "mowl",
   "language": "python",
   "name": "mowl"
  },
  "language_info": {
   "codemirror_mode": {
    "name": "ipython",
    "version": 3
   },
   "file_extension": ".py",
   "mimetype": "text/x-python",
   "name": "python",
   "nbconvert_exporter": "python",
   "pygments_lexer": "ipython3",
   "version": "3.9.7"
  }
 },
 "nbformat": 4,
 "nbformat_minor": 5
}
