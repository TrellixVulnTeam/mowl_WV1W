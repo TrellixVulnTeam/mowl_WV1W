{
 "cells": [
  {
   "cell_type": "markdown",
   "id": "bd2cddcf",
   "metadata": {},
   "source": [
    "# DL2Vec"
   ]
  },
  {
   "cell_type": "code",
   "execution_count": 1,
   "id": "e70e8338",
   "metadata": {},
   "outputs": [],
   "source": [
    "import sys\n",
    "sys.path.append(\"../../../\")\n",
    "\n",
    "import torch as th\n",
    "import logging\n",
    "\n",
    "from mowl.datasets.ppi_yeast import PPIYeastSlimDataset\n",
    "\n",
    "from mowl.embeddings.graph_based.dl2vec.model import DL2Vec"
   ]
  },
  {
   "cell_type": "code",
   "execution_count": 2,
   "id": "bb7072d3",
   "metadata": {},
   "outputs": [],
   "source": [
    "def main():\n",
    "    dataset = PPIYeastSlimDataset()\n",
    "    \n",
    "    model = DL2Vec(\n",
    "        dataset, \n",
    "        \"model_out\", \n",
    "        bidirectional_taxonomy=True, \n",
    "        walk_length=5, \n",
    "        num_walks=5, \n",
    "        vector_size=10, \n",
    "        window=5,\n",
    "        num_procs = 4\n",
    "    )\n",
    "    \n",
    "    model.train()"
   ]
  },
  {
   "cell_type": "code",
   "execution_count": 3,
   "id": "47d212b0",
   "metadata": {},
   "outputs": [
    {
     "name": "stderr",
     "output_type": "stream",
     "text": [
      "WARNING: An illegal reflective access operation has occurred\n",
      "WARNING: Illegal reflective access by com.google.inject.internal.cglib.core.$ReflectUtils$2 (file:/home/zhapacfp/Github/mowl/gateway/build/distributions/gateway/lib/guice-4.0.jar) to method java.lang.ClassLoader.defineClass(java.lang.String,byte[],int,int,java.security.ProtectionDomain)\n",
      "WARNING: Please consider reporting this to the maintainers of com.google.inject.internal.cglib.core.$ReflectUtils$2\n",
      "WARNING: Use --illegal-access=warn to enable warnings of further illegal reflective access operations\n",
      "WARNING: All illegal access operations will be denied in a future release\n"
     ]
    },
    {
     "name": "stdout",
     "output_type": "stream",
     "text": [
      "INFO: Number of ontology classes: 11020\n",
      "Done walks for 0 nodesDone walks for\n",
      " 0 nodesDone walks for\n",
      " 0 nodes\n",
      "Done walks for 0 nodes\n",
      "Done walks for 1000 nodes\n",
      "Done walks for 1000 nodes\n",
      "Done walks for 1000 nodes\n",
      "Done walks for 1000 nodes\n",
      "Done walks for 2000 nodes\n",
      "Done walks for 2000 nodes\n",
      "Done walks for 2000Done walks for nodes 2000\n",
      " nodes\n"
     ]
    }
   ],
   "source": [
    "main()"
   ]
  },
  {
   "cell_type": "code",
   "execution_count": null,
   "id": "5fde5847",
   "metadata": {},
   "outputs": [],
   "source": []
  }
 ],
 "metadata": {
  "kernelspec": {
   "display_name": "mowl",
   "language": "python",
   "name": "mowl"
  },
  "language_info": {
   "codemirror_mode": {
    "name": "ipython",
    "version": 3
   },
   "file_extension": ".py",
   "mimetype": "text/x-python",
   "name": "python",
   "nbconvert_exporter": "python",
   "pygments_lexer": "ipython3",
   "version": "3.9.7"
  }
 },
 "nbformat": 4,
 "nbformat_minor": 5
}
